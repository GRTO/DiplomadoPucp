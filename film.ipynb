{
  "nbformat": 4,
  "nbformat_minor": 0,
  "metadata": {
    "colab": {
      "name": "film.ipynb",
      "provenance": [],
      "collapsed_sections": [],
      "include_colab_link": true
    },
    "kernelspec": {
      "name": "python3",
      "display_name": "Python 3"
    }
  },
  "cells": [
    {
      "cell_type": "markdown",
      "metadata": {
        "id": "view-in-github",
        "colab_type": "text"
      },
      "source": [
        "<a href=\"https://colab.research.google.com/github/GRTO/DiplomadoPucp/blob/master/film.ipynb\" target=\"_parent\"><img src=\"https://colab.research.google.com/assets/colab-badge.svg\" alt=\"Open In Colab\"/></a>"
      ]
    },
    {
      "cell_type": "code",
      "metadata": {
        "id": "us4Uh4duRROt",
        "colab_type": "code",
        "outputId": "900205df-42e4-4ced-e9d9-0522712bb60e",
        "colab": {
          "base_uri": "https://localhost:8080/",
          "height": 102
        }
      },
      "source": [
        "from google.colab import drive\n",
        "drive.mount(\"/content/gdrive\")\n",
        "%cd gdrive/My\\ Drive/'Colab Notebooks'/'Data mining'/'Clase 2/'\n",
        "!ls"
      ],
      "execution_count": 0,
      "outputs": [
        {
          "output_type": "stream",
          "text": [
            "Drive already mounted at /content/gdrive; to attempt to forcibly remount, call drive.mount(\"/content/gdrive\", force_remount=True).\n",
            "[Errno 2] No such file or directory: 'gdrive/My Drive/Colab Notebooks/Data mining/Clase 2/'\n",
            "/content/gdrive/My Drive/Colab Notebooks/Data mining/Clase 2\n",
            " cars.csv     film.csv\t   FullSwainsoniDataset.txt   TimeUse.csv\n",
            " cars.ipynb   film.ipynb  'MetalsInRivers GB.xlsx'\n"
          ],
          "name": "stdout"
        }
      ]
    },
    {
      "cell_type": "code",
      "metadata": {
        "id": "SMpxdsN9Rtaj",
        "colab_type": "code",
        "colab": {}
      },
      "source": [
        "import numpy as np\n",
        "import pandas as pd\n",
        "import seaborn as sns"
      ],
      "execution_count": 0,
      "outputs": []
    },
    {
      "cell_type": "markdown",
      "metadata": {
        "id": "0CGg4qIGtQPk",
        "colab_type": "text"
      },
      "source": [
        "# Lectura de los datos"
      ]
    },
    {
      "cell_type": "code",
      "metadata": {
        "id": "4mYF40RSRvnO",
        "colab_type": "code",
        "outputId": "5f669fe7-b3cc-4df9-f31d-7ddf7e7be684",
        "colab": {
          "base_uri": "https://localhost:8080/",
          "height": 204
        }
      },
      "source": [
        "df = pd.read_csv('film.csv', sep=\";\", encoding = \"ISO-8859-1\");\n",
        "df.head()"
      ],
      "execution_count": 0,
      "outputs": [
        {
          "output_type": "execute_result",
          "data": {
            "text/html": [
              "<div>\n",
              "<style scoped>\n",
              "    .dataframe tbody tr th:only-of-type {\n",
              "        vertical-align: middle;\n",
              "    }\n",
              "\n",
              "    .dataframe tbody tr th {\n",
              "        vertical-align: top;\n",
              "    }\n",
              "\n",
              "    .dataframe thead th {\n",
              "        text-align: right;\n",
              "    }\n",
              "</style>\n",
              "<table border=\"1\" class=\"dataframe\">\n",
              "  <thead>\n",
              "    <tr style=\"text-align: right;\">\n",
              "      <th></th>\n",
              "      <th>Year</th>\n",
              "      <th>Length</th>\n",
              "      <th>Title</th>\n",
              "      <th>Subject</th>\n",
              "      <th>Actor</th>\n",
              "      <th>Actress</th>\n",
              "      <th>Director</th>\n",
              "      <th>Popularity</th>\n",
              "      <th>Awards</th>\n",
              "      <th>*Image</th>\n",
              "    </tr>\n",
              "  </thead>\n",
              "  <tbody>\n",
              "    <tr>\n",
              "      <th>0</th>\n",
              "      <td>INT</td>\n",
              "      <td>INT</td>\n",
              "      <td>STRING</td>\n",
              "      <td>CAT</td>\n",
              "      <td>CAT</td>\n",
              "      <td>CAT</td>\n",
              "      <td>CAT</td>\n",
              "      <td>INT</td>\n",
              "      <td>BOOL</td>\n",
              "      <td>STRING</td>\n",
              "    </tr>\n",
              "    <tr>\n",
              "      <th>1</th>\n",
              "      <td>1990</td>\n",
              "      <td>111</td>\n",
              "      <td>Tie Me Up! Tie Me Down!</td>\n",
              "      <td>Comedy</td>\n",
              "      <td>Banderas, Antonio</td>\n",
              "      <td>Abril, Victoria</td>\n",
              "      <td>Almodóvar, Pedro</td>\n",
              "      <td>68</td>\n",
              "      <td>No</td>\n",
              "      <td>NicholasCage.png</td>\n",
              "    </tr>\n",
              "    <tr>\n",
              "      <th>2</th>\n",
              "      <td>1991</td>\n",
              "      <td>113</td>\n",
              "      <td>High Heels</td>\n",
              "      <td>Comedy</td>\n",
              "      <td>Bosé, Miguel</td>\n",
              "      <td>Abril, Victoria</td>\n",
              "      <td>Almodóvar, Pedro</td>\n",
              "      <td>68</td>\n",
              "      <td>No</td>\n",
              "      <td>NicholasCage.png</td>\n",
              "    </tr>\n",
              "    <tr>\n",
              "      <th>3</th>\n",
              "      <td>1983</td>\n",
              "      <td>104</td>\n",
              "      <td>Dead Zone, The</td>\n",
              "      <td>Horror</td>\n",
              "      <td>Walken, Christopher</td>\n",
              "      <td>Adams, Brooke</td>\n",
              "      <td>Cronenberg, David</td>\n",
              "      <td>79</td>\n",
              "      <td>No</td>\n",
              "      <td>NicholasCage.png</td>\n",
              "    </tr>\n",
              "    <tr>\n",
              "      <th>4</th>\n",
              "      <td>1979</td>\n",
              "      <td>122</td>\n",
              "      <td>Cuba</td>\n",
              "      <td>Action</td>\n",
              "      <td>Connery, Sean</td>\n",
              "      <td>Adams, Brooke</td>\n",
              "      <td>Lester, Richard</td>\n",
              "      <td>6</td>\n",
              "      <td>No</td>\n",
              "      <td>seanConnery.png</td>\n",
              "    </tr>\n",
              "  </tbody>\n",
              "</table>\n",
              "</div>"
            ],
            "text/plain": [
              "   Year Length                    Title  ... Popularity Awards            *Image\n",
              "0   INT    INT                   STRING  ...        INT   BOOL            STRING\n",
              "1  1990    111  Tie Me Up! Tie Me Down!  ...         68     No  NicholasCage.png\n",
              "2  1991    113               High Heels  ...         68     No  NicholasCage.png\n",
              "3  1983    104           Dead Zone, The  ...         79     No  NicholasCage.png\n",
              "4  1979    122                     Cuba  ...          6     No   seanConnery.png\n",
              "\n",
              "[5 rows x 10 columns]"
            ]
          },
          "metadata": {
            "tags": []
          },
          "execution_count": 77
        }
      ]
    },
    {
      "cell_type": "markdown",
      "metadata": {
        "id": "5CtBax5XtZ0U",
        "colab_type": "text"
      },
      "source": [
        "# Objeto de estudio"
      ]
    },
    {
      "cell_type": "markdown",
      "metadata": {
        "id": "scJoP53vtbgm",
        "colab_type": "text"
      },
      "source": [
        "**Objeto de estudio:** Películas con los repectivos actores y su popularidad"
      ]
    },
    {
      "cell_type": "markdown",
      "metadata": {
        "id": "E24iXeUJtvKZ",
        "colab_type": "text"
      },
      "source": [
        "# Data temporal"
      ]
    },
    {
      "cell_type": "markdown",
      "metadata": {
        "id": "wTNdRBWItzPy",
        "colab_type": "text"
      },
      "source": [
        "**Dato temporal:** tiempo de duración de la película **(Length)** y el año en que fue realizada la película **(year)**"
      ]
    },
    {
      "cell_type": "code",
      "metadata": {
        "id": "2yo_Q6mHRxxG",
        "colab_type": "code",
        "colab": {}
      },
      "source": [
        "df.drop(axis=0, index=0, inplace=True)"
      ],
      "execution_count": 0,
      "outputs": []
    },
    {
      "cell_type": "markdown",
      "metadata": {
        "id": "5gG8oQVKuFWX",
        "colab_type": "text"
      },
      "source": [
        "# Pretratamiento de la data y visualizacion de indicadores"
      ]
    },
    {
      "cell_type": "code",
      "metadata": {
        "id": "Fzm8dfnnTE3W",
        "colab_type": "code",
        "outputId": "70f11319-7536-4970-a102-ebe975c4c571",
        "colab": {
          "base_uri": "https://localhost:8080/",
          "height": 204
        }
      },
      "source": [
        "df.head()"
      ],
      "execution_count": 0,
      "outputs": [
        {
          "output_type": "execute_result",
          "data": {
            "text/html": [
              "<div>\n",
              "<style scoped>\n",
              "    .dataframe tbody tr th:only-of-type {\n",
              "        vertical-align: middle;\n",
              "    }\n",
              "\n",
              "    .dataframe tbody tr th {\n",
              "        vertical-align: top;\n",
              "    }\n",
              "\n",
              "    .dataframe thead th {\n",
              "        text-align: right;\n",
              "    }\n",
              "</style>\n",
              "<table border=\"1\" class=\"dataframe\">\n",
              "  <thead>\n",
              "    <tr style=\"text-align: right;\">\n",
              "      <th></th>\n",
              "      <th>Year</th>\n",
              "      <th>Length</th>\n",
              "      <th>Title</th>\n",
              "      <th>Subject</th>\n",
              "      <th>Actor</th>\n",
              "      <th>Actress</th>\n",
              "      <th>Director</th>\n",
              "      <th>Popularity</th>\n",
              "      <th>Awards</th>\n",
              "      <th>*Image</th>\n",
              "    </tr>\n",
              "  </thead>\n",
              "  <tbody>\n",
              "    <tr>\n",
              "      <th>1</th>\n",
              "      <td>1990</td>\n",
              "      <td>111</td>\n",
              "      <td>Tie Me Up! Tie Me Down!</td>\n",
              "      <td>Comedy</td>\n",
              "      <td>Banderas, Antonio</td>\n",
              "      <td>Abril, Victoria</td>\n",
              "      <td>Almodóvar, Pedro</td>\n",
              "      <td>68</td>\n",
              "      <td>No</td>\n",
              "      <td>NicholasCage.png</td>\n",
              "    </tr>\n",
              "    <tr>\n",
              "      <th>2</th>\n",
              "      <td>1991</td>\n",
              "      <td>113</td>\n",
              "      <td>High Heels</td>\n",
              "      <td>Comedy</td>\n",
              "      <td>Bosé, Miguel</td>\n",
              "      <td>Abril, Victoria</td>\n",
              "      <td>Almodóvar, Pedro</td>\n",
              "      <td>68</td>\n",
              "      <td>No</td>\n",
              "      <td>NicholasCage.png</td>\n",
              "    </tr>\n",
              "    <tr>\n",
              "      <th>3</th>\n",
              "      <td>1983</td>\n",
              "      <td>104</td>\n",
              "      <td>Dead Zone, The</td>\n",
              "      <td>Horror</td>\n",
              "      <td>Walken, Christopher</td>\n",
              "      <td>Adams, Brooke</td>\n",
              "      <td>Cronenberg, David</td>\n",
              "      <td>79</td>\n",
              "      <td>No</td>\n",
              "      <td>NicholasCage.png</td>\n",
              "    </tr>\n",
              "    <tr>\n",
              "      <th>4</th>\n",
              "      <td>1979</td>\n",
              "      <td>122</td>\n",
              "      <td>Cuba</td>\n",
              "      <td>Action</td>\n",
              "      <td>Connery, Sean</td>\n",
              "      <td>Adams, Brooke</td>\n",
              "      <td>Lester, Richard</td>\n",
              "      <td>6</td>\n",
              "      <td>No</td>\n",
              "      <td>seanConnery.png</td>\n",
              "    </tr>\n",
              "    <tr>\n",
              "      <th>5</th>\n",
              "      <td>1978</td>\n",
              "      <td>94</td>\n",
              "      <td>Days of Heaven</td>\n",
              "      <td>Drama</td>\n",
              "      <td>Gere, Richard</td>\n",
              "      <td>Adams, Brooke</td>\n",
              "      <td>Malick, Terrence</td>\n",
              "      <td>14</td>\n",
              "      <td>No</td>\n",
              "      <td>NicholasCage.png</td>\n",
              "    </tr>\n",
              "  </tbody>\n",
              "</table>\n",
              "</div>"
            ],
            "text/plain": [
              "   Year Length                    Title  ... Popularity Awards            *Image\n",
              "1  1990    111  Tie Me Up! Tie Me Down!  ...         68     No  NicholasCage.png\n",
              "2  1991    113               High Heels  ...         68     No  NicholasCage.png\n",
              "3  1983    104           Dead Zone, The  ...         79     No  NicholasCage.png\n",
              "4  1979    122                     Cuba  ...          6     No   seanConnery.png\n",
              "5  1978     94           Days of Heaven  ...         14     No  NicholasCage.png\n",
              "\n",
              "[5 rows x 10 columns]"
            ]
          },
          "metadata": {
            "tags": []
          },
          "execution_count": 79
        }
      ]
    },
    {
      "cell_type": "code",
      "metadata": {
        "id": "ZXPMlo7rTG1-",
        "colab_type": "code",
        "colab": {}
      },
      "source": [
        "df.Year = df.Year.astype(int)\n",
        "df.Length = df.Length.astype(float)\n",
        "df.Popularity = df.Popularity.astype(float)\n",
        "df.Title = df.Title.astype(str)\n",
        "df.Subject = df.Subject.astype(str)\n",
        "df.Actor = df.Actor.astype(str)\n",
        "df.Actress = df.Actress.astype(str)\n",
        "df.Director = df.Director.astype(str)\n",
        "df.Awards = df.Awards.astype(str)\n",
        "df['*Image'] = df['*Image'].astype(str)"
      ],
      "execution_count": 0,
      "outputs": []
    },
    {
      "cell_type": "code",
      "metadata": {
        "id": "KnZVngV4TNTe",
        "colab_type": "code",
        "outputId": "3a2d0369-dfb2-44da-ed08-d68bb4f3807a",
        "colab": {
          "base_uri": "https://localhost:8080/",
          "height": 272
        }
      },
      "source": [
        "df.info()"
      ],
      "execution_count": 0,
      "outputs": [
        {
          "output_type": "stream",
          "text": [
            "<class 'pandas.core.frame.DataFrame'>\n",
            "Int64Index: 1659 entries, 1 to 1659\n",
            "Data columns (total 10 columns):\n",
            "Year          1659 non-null int64\n",
            "Length        1592 non-null float64\n",
            "Title         1659 non-null object\n",
            "Subject       1659 non-null object\n",
            "Actor         1659 non-null object\n",
            "Actress       1659 non-null object\n",
            "Director      1659 non-null object\n",
            "Popularity    1653 non-null float64\n",
            "Awards        1659 non-null object\n",
            "*Image        1659 non-null object\n",
            "dtypes: float64(2), int64(1), object(7)\n",
            "memory usage: 142.6+ KB\n"
          ],
          "name": "stdout"
        }
      ]
    },
    {
      "cell_type": "code",
      "metadata": {
        "id": "fPZDAoKoV0mY",
        "colab_type": "code",
        "outputId": "ccf76f99-0687-4042-a7de-ad4b8817122b",
        "colab": {
          "base_uri": "https://localhost:8080/",
          "height": 359
        }
      },
      "source": [
        "df.describe(include='all').T"
      ],
      "execution_count": 0,
      "outputs": [
        {
          "output_type": "execute_result",
          "data": {
            "text/html": [
              "<div>\n",
              "<style scoped>\n",
              "    .dataframe tbody tr th:only-of-type {\n",
              "        vertical-align: middle;\n",
              "    }\n",
              "\n",
              "    .dataframe tbody tr th {\n",
              "        vertical-align: top;\n",
              "    }\n",
              "\n",
              "    .dataframe thead th {\n",
              "        text-align: right;\n",
              "    }\n",
              "</style>\n",
              "<table border=\"1\" class=\"dataframe\">\n",
              "  <thead>\n",
              "    <tr style=\"text-align: right;\">\n",
              "      <th></th>\n",
              "      <th>count</th>\n",
              "      <th>unique</th>\n",
              "      <th>top</th>\n",
              "      <th>freq</th>\n",
              "      <th>mean</th>\n",
              "      <th>std</th>\n",
              "      <th>min</th>\n",
              "      <th>25%</th>\n",
              "      <th>50%</th>\n",
              "      <th>75%</th>\n",
              "      <th>max</th>\n",
              "    </tr>\n",
              "  </thead>\n",
              "  <tbody>\n",
              "    <tr>\n",
              "      <th>Year</th>\n",
              "      <td>1659</td>\n",
              "      <td>NaN</td>\n",
              "      <td>NaN</td>\n",
              "      <td>NaN</td>\n",
              "      <td>1975.8</td>\n",
              "      <td>17.0578</td>\n",
              "      <td>1920</td>\n",
              "      <td>1967</td>\n",
              "      <td>1983</td>\n",
              "      <td>1989</td>\n",
              "      <td>1997</td>\n",
              "    </tr>\n",
              "    <tr>\n",
              "      <th>Length</th>\n",
              "      <td>1592</td>\n",
              "      <td>NaN</td>\n",
              "      <td>NaN</td>\n",
              "      <td>NaN</td>\n",
              "      <td>105.18</td>\n",
              "      <td>30.6295</td>\n",
              "      <td>5</td>\n",
              "      <td>90</td>\n",
              "      <td>102</td>\n",
              "      <td>116</td>\n",
              "      <td>450</td>\n",
              "    </tr>\n",
              "    <tr>\n",
              "      <th>Title</th>\n",
              "      <td>1659</td>\n",
              "      <td>1657</td>\n",
              "      <td>White Lightning</td>\n",
              "      <td>2</td>\n",
              "      <td>NaN</td>\n",
              "      <td>NaN</td>\n",
              "      <td>NaN</td>\n",
              "      <td>NaN</td>\n",
              "      <td>NaN</td>\n",
              "      <td>NaN</td>\n",
              "      <td>NaN</td>\n",
              "    </tr>\n",
              "    <tr>\n",
              "      <th>Subject</th>\n",
              "      <td>1659</td>\n",
              "      <td>16</td>\n",
              "      <td>Drama</td>\n",
              "      <td>655</td>\n",
              "      <td>NaN</td>\n",
              "      <td>NaN</td>\n",
              "      <td>NaN</td>\n",
              "      <td>NaN</td>\n",
              "      <td>NaN</td>\n",
              "      <td>NaN</td>\n",
              "      <td>NaN</td>\n",
              "    </tr>\n",
              "    <tr>\n",
              "      <th>Actor</th>\n",
              "      <td>1659</td>\n",
              "      <td>760</td>\n",
              "      <td>Wayne, John</td>\n",
              "      <td>81</td>\n",
              "      <td>NaN</td>\n",
              "      <td>NaN</td>\n",
              "      <td>NaN</td>\n",
              "      <td>NaN</td>\n",
              "      <td>NaN</td>\n",
              "      <td>NaN</td>\n",
              "      <td>NaN</td>\n",
              "    </tr>\n",
              "    <tr>\n",
              "      <th>Actress</th>\n",
              "      <td>1659</td>\n",
              "      <td>711</td>\n",
              "      <td>nan</td>\n",
              "      <td>378</td>\n",
              "      <td>NaN</td>\n",
              "      <td>NaN</td>\n",
              "      <td>NaN</td>\n",
              "      <td>NaN</td>\n",
              "      <td>NaN</td>\n",
              "      <td>NaN</td>\n",
              "      <td>NaN</td>\n",
              "    </tr>\n",
              "    <tr>\n",
              "      <th>Director</th>\n",
              "      <td>1659</td>\n",
              "      <td>756</td>\n",
              "      <td>nan</td>\n",
              "      <td>253</td>\n",
              "      <td>NaN</td>\n",
              "      <td>NaN</td>\n",
              "      <td>NaN</td>\n",
              "      <td>NaN</td>\n",
              "      <td>NaN</td>\n",
              "      <td>NaN</td>\n",
              "      <td>NaN</td>\n",
              "    </tr>\n",
              "    <tr>\n",
              "      <th>Popularity</th>\n",
              "      <td>1653</td>\n",
              "      <td>NaN</td>\n",
              "      <td>NaN</td>\n",
              "      <td>NaN</td>\n",
              "      <td>43.1101</td>\n",
              "      <td>26.7474</td>\n",
              "      <td>0</td>\n",
              "      <td>19</td>\n",
              "      <td>43</td>\n",
              "      <td>67</td>\n",
              "      <td>88</td>\n",
              "    </tr>\n",
              "    <tr>\n",
              "      <th>Awards</th>\n",
              "      <td>1659</td>\n",
              "      <td>2</td>\n",
              "      <td>No</td>\n",
              "      <td>1496</td>\n",
              "      <td>NaN</td>\n",
              "      <td>NaN</td>\n",
              "      <td>NaN</td>\n",
              "      <td>NaN</td>\n",
              "      <td>NaN</td>\n",
              "      <td>NaN</td>\n",
              "      <td>NaN</td>\n",
              "    </tr>\n",
              "    <tr>\n",
              "      <th>*Image</th>\n",
              "      <td>1659</td>\n",
              "      <td>27</td>\n",
              "      <td>NicholasCage.png</td>\n",
              "      <td>1151</td>\n",
              "      <td>NaN</td>\n",
              "      <td>NaN</td>\n",
              "      <td>NaN</td>\n",
              "      <td>NaN</td>\n",
              "      <td>NaN</td>\n",
              "      <td>NaN</td>\n",
              "      <td>NaN</td>\n",
              "    </tr>\n",
              "  </tbody>\n",
              "</table>\n",
              "</div>"
            ],
            "text/plain": [
              "           count unique               top  freq  ...   25%   50%   75%   max\n",
              "Year        1659    NaN               NaN   NaN  ...  1967  1983  1989  1997\n",
              "Length      1592    NaN               NaN   NaN  ...    90   102   116   450\n",
              "Title       1659   1657   White Lightning     2  ...   NaN   NaN   NaN   NaN\n",
              "Subject     1659     16             Drama   655  ...   NaN   NaN   NaN   NaN\n",
              "Actor       1659    760       Wayne, John    81  ...   NaN   NaN   NaN   NaN\n",
              "Actress     1659    711               nan   378  ...   NaN   NaN   NaN   NaN\n",
              "Director    1659    756               nan   253  ...   NaN   NaN   NaN   NaN\n",
              "Popularity  1653    NaN               NaN   NaN  ...    19    43    67    88\n",
              "Awards      1659      2                No  1496  ...   NaN   NaN   NaN   NaN\n",
              "*Image      1659     27  NicholasCage.png  1151  ...   NaN   NaN   NaN   NaN\n",
              "\n",
              "[10 rows x 11 columns]"
            ]
          },
          "metadata": {
            "tags": []
          },
          "execution_count": 82
        }
      ]
    },
    {
      "cell_type": "markdown",
      "metadata": {
        "id": "fP6XEpTQuJO-",
        "colab_type": "text"
      },
      "source": [
        "# Indicadores"
      ]
    },
    {
      "cell_type": "markdown",
      "metadata": {
        "id": "EGId5Bq5bYje",
        "colab_type": "text"
      },
      "source": [
        "1. **Indicador:** Este gráfico muestra la cantidad de datos faltantes por columna"
      ]
    },
    {
      "cell_type": "code",
      "metadata": {
        "id": "WbwR0E9jWUSA",
        "colab_type": "code",
        "outputId": "c6a0d702-ac25-4412-d2a1-e497d2c965f8",
        "colab": {
          "base_uri": "https://localhost:8080/",
          "height": 80
        }
      },
      "source": [
        "df.isnull().sum().to_frame().T"
      ],
      "execution_count": 0,
      "outputs": [
        {
          "output_type": "execute_result",
          "data": {
            "text/html": [
              "<div>\n",
              "<style scoped>\n",
              "    .dataframe tbody tr th:only-of-type {\n",
              "        vertical-align: middle;\n",
              "    }\n",
              "\n",
              "    .dataframe tbody tr th {\n",
              "        vertical-align: top;\n",
              "    }\n",
              "\n",
              "    .dataframe thead th {\n",
              "        text-align: right;\n",
              "    }\n",
              "</style>\n",
              "<table border=\"1\" class=\"dataframe\">\n",
              "  <thead>\n",
              "    <tr style=\"text-align: right;\">\n",
              "      <th></th>\n",
              "      <th>Year</th>\n",
              "      <th>Length</th>\n",
              "      <th>Title</th>\n",
              "      <th>Subject</th>\n",
              "      <th>Actor</th>\n",
              "      <th>Actress</th>\n",
              "      <th>Director</th>\n",
              "      <th>Popularity</th>\n",
              "      <th>Awards</th>\n",
              "      <th>*Image</th>\n",
              "    </tr>\n",
              "  </thead>\n",
              "  <tbody>\n",
              "    <tr>\n",
              "      <th>0</th>\n",
              "      <td>0</td>\n",
              "      <td>67</td>\n",
              "      <td>0</td>\n",
              "      <td>0</td>\n",
              "      <td>0</td>\n",
              "      <td>0</td>\n",
              "      <td>0</td>\n",
              "      <td>6</td>\n",
              "      <td>0</td>\n",
              "      <td>0</td>\n",
              "    </tr>\n",
              "  </tbody>\n",
              "</table>\n",
              "</div>"
            ],
            "text/plain": [
              "   Year  Length  Title  Subject  ...  Director  Popularity  Awards  *Image\n",
              "0     0      67      0        0  ...         0           6       0       0\n",
              "\n",
              "[1 rows x 10 columns]"
            ]
          },
          "metadata": {
            "tags": []
          },
          "execution_count": 83
        }
      ]
    },
    {
      "cell_type": "code",
      "metadata": {
        "id": "amxJGuKalzve",
        "colab_type": "code",
        "outputId": "5b9cf483-b044-458b-a71e-66157a0d3d2c",
        "colab": {
          "base_uri": "https://localhost:8080/",
          "height": 395
        }
      },
      "source": [
        "dataEmpty = df.isnull().sum().to_frame()\n",
        "dataEmpty.plot.bar(rot=0, width=0.5, figsize=(28, 6))"
      ],
      "execution_count": 0,
      "outputs": [
        {
          "output_type": "execute_result",
          "data": {
            "text/plain": [
              "<matplotlib.axes._subplots.AxesSubplot at 0x7f34ce8bec50>"
            ]
          },
          "metadata": {
            "tags": []
          },
          "execution_count": 84
        },
        {
          "output_type": "display_data",
          "data": {
            "image/png": "[encoded data removed]",
            "text/plain": [
              "<Figure size 2016x432 with 1 Axes>"
            ]
          },
          "metadata": {
            "tags": []
          }
        }
      ]
    },
    {
      "cell_type": "markdown",
      "metadata": {
        "id": "V3LUONKpbyYa",
        "colab_type": "text"
      },
      "source": [
        "2. **Indicador:** Este gráfico muestra los 10 mejores subjects con mas popularidad\n"
      ]
    },
    {
      "cell_type": "code",
      "metadata": {
        "id": "eCqzLxcPXN7F",
        "colab_type": "code",
        "outputId": "c15fc5cb-4a29-464f-89f0-21ce10192b46",
        "colab": {
          "base_uri": "https://localhost:8080/",
          "height": 390
        }
      },
      "source": [
        "topTenSubject = df[['Subject', 'Popularity']].groupby(['Subject']).mean().nlargest(10, 'Popularity')\n",
        "topTenSubject"
      ],
      "execution_count": 0,
      "outputs": [
        {
          "output_type": "execute_result",
          "data": {
            "text/html": [
              "<div>\n",
              "<style scoped>\n",
              "    .dataframe tbody tr th:only-of-type {\n",
              "        vertical-align: middle;\n",
              "    }\n",
              "\n",
              "    .dataframe tbody tr th {\n",
              "        vertical-align: top;\n",
              "    }\n",
              "\n",
              "    .dataframe thead th {\n",
              "        text-align: right;\n",
              "    }\n",
              "</style>\n",
              "<table border=\"1\" class=\"dataframe\">\n",
              "  <thead>\n",
              "    <tr style=\"text-align: right;\">\n",
              "      <th></th>\n",
              "      <th>Popularity</th>\n",
              "    </tr>\n",
              "    <tr>\n",
              "      <th>Subject</th>\n",
              "      <th></th>\n",
              "    </tr>\n",
              "  </thead>\n",
              "  <tbody>\n",
              "    <tr>\n",
              "      <th>nan</th>\n",
              "      <td>75.000000</td>\n",
              "    </tr>\n",
              "    <tr>\n",
              "      <th>Crime</th>\n",
              "      <td>66.000000</td>\n",
              "    </tr>\n",
              "    <tr>\n",
              "      <th>Adventure</th>\n",
              "      <td>63.500000</td>\n",
              "    </tr>\n",
              "    <tr>\n",
              "      <th>Romance</th>\n",
              "      <td>62.000000</td>\n",
              "    </tr>\n",
              "    <tr>\n",
              "      <th>Short</th>\n",
              "      <td>62.000000</td>\n",
              "    </tr>\n",
              "    <tr>\n",
              "      <th>Fantasy</th>\n",
              "      <td>57.000000</td>\n",
              "    </tr>\n",
              "    <tr>\n",
              "      <th>Horror</th>\n",
              "      <td>46.526316</td>\n",
              "    </tr>\n",
              "    <tr>\n",
              "      <th>Music</th>\n",
              "      <td>46.139535</td>\n",
              "    </tr>\n",
              "    <tr>\n",
              "      <th>Western</th>\n",
              "      <td>44.271186</td>\n",
              "    </tr>\n",
              "    <tr>\n",
              "      <th>Drama</th>\n",
              "      <td>44.150307</td>\n",
              "    </tr>\n",
              "  </tbody>\n",
              "</table>\n",
              "</div>"
            ],
            "text/plain": [
              "           Popularity\n",
              "Subject              \n",
              "nan         75.000000\n",
              "Crime       66.000000\n",
              "Adventure   63.500000\n",
              "Romance     62.000000\n",
              "Short       62.000000\n",
              "Fantasy     57.000000\n",
              "Horror      46.526316\n",
              "Music       46.139535\n",
              "Western     44.271186\n",
              "Drama       44.150307"
            ]
          },
          "metadata": {
            "tags": []
          },
          "execution_count": 86
        }
      ]
    },
    {
      "cell_type": "code",
      "metadata": {
        "id": "rIEN-NKQaS8h",
        "colab_type": "code",
        "outputId": "9aa5684c-e154-41f0-c5dd-c247d6c36078",
        "colab": {
          "base_uri": "https://localhost:8080/",
          "height": 409
        }
      },
      "source": [
        "topTenSubject.plot.bar(y='Popularity', rot=0, width=0.5, figsize=(28, 6))"
      ],
      "execution_count": 0,
      "outputs": [
        {
          "output_type": "execute_result",
          "data": {
            "text/plain": [
              "<matplotlib.axes._subplots.AxesSubplot at 0x7f34cbff59e8>"
            ]
          },
          "metadata": {
            "tags": []
          },
          "execution_count": 89
        },
        {
          "output_type": "display_data",
          "data": {
            "image/png": "[encoded data removed]",
            "text/plain": [
              "<Figure size 2016x432 with 1 Axes>"
            ]
          },
          "metadata": {
            "tags": []
          }
        }
      ]
    },
    {
      "cell_type": "markdown",
      "metadata": {
        "id": "ozCherJcwy4k",
        "colab_type": "text"
      },
      "source": [
        "3. **Indicador:** Este gráfico muestra los 10 actores con mas peliculas hasta el momento"
      ]
    },
    {
      "cell_type": "code",
      "metadata": {
        "id": "BnLixYFiwcXK",
        "colab_type": "code",
        "outputId": "0ba89a5a-d855-49fd-8ba2-57d5879967a0",
        "colab": {
          "base_uri": "https://localhost:8080/",
          "height": 359
        }
      },
      "source": [
        "mostValuableActors = df.Actor.value_counts().to_frame().nlargest(10, 'Actor')\n",
        "mostValuableActors"
      ],
      "execution_count": 0,
      "outputs": [
        {
          "output_type": "execute_result",
          "data": {
            "text/html": [
              "<div>\n",
              "<style scoped>\n",
              "    .dataframe tbody tr th:only-of-type {\n",
              "        vertical-align: middle;\n",
              "    }\n",
              "\n",
              "    .dataframe tbody tr th {\n",
              "        vertical-align: top;\n",
              "    }\n",
              "\n",
              "    .dataframe thead th {\n",
              "        text-align: right;\n",
              "    }\n",
              "</style>\n",
              "<table border=\"1\" class=\"dataframe\">\n",
              "  <thead>\n",
              "    <tr style=\"text-align: right;\">\n",
              "      <th></th>\n",
              "      <th>Actor</th>\n",
              "    </tr>\n",
              "  </thead>\n",
              "  <tbody>\n",
              "    <tr>\n",
              "      <th>Wayne, John</th>\n",
              "      <td>81</td>\n",
              "    </tr>\n",
              "    <tr>\n",
              "      <th>Eastwood, Clint</th>\n",
              "      <td>31</td>\n",
              "    </tr>\n",
              "    <tr>\n",
              "      <th>Connery, Sean</th>\n",
              "      <td>30</td>\n",
              "    </tr>\n",
              "    <tr>\n",
              "      <th>Newman, Paul</th>\n",
              "      <td>27</td>\n",
              "    </tr>\n",
              "    <tr>\n",
              "      <th>Lancaster, Burt</th>\n",
              "      <td>24</td>\n",
              "    </tr>\n",
              "    <tr>\n",
              "      <th>Tracy, Spencer</th>\n",
              "      <td>24</td>\n",
              "    </tr>\n",
              "    <tr>\n",
              "      <th>Brando, Marlon</th>\n",
              "      <td>24</td>\n",
              "    </tr>\n",
              "    <tr>\n",
              "      <th>Ford, Glenn</th>\n",
              "      <td>23</td>\n",
              "    </tr>\n",
              "    <tr>\n",
              "      <th>Sellers, Peter</th>\n",
              "      <td>23</td>\n",
              "    </tr>\n",
              "    <tr>\n",
              "      <th>Depardieu, Gérard</th>\n",
              "      <td>18</td>\n",
              "    </tr>\n",
              "  </tbody>\n",
              "</table>\n",
              "</div>"
            ],
            "text/plain": [
              "                   Actor\n",
              "Wayne, John           81\n",
              "Eastwood, Clint       31\n",
              "Connery, Sean         30\n",
              "Newman, Paul          27\n",
              "Lancaster, Burt       24\n",
              "Tracy, Spencer        24\n",
              "Brando, Marlon        24\n",
              "Ford, Glenn           23\n",
              "Sellers, Peter        23\n",
              "Depardieu, Gérard     18"
            ]
          },
          "metadata": {
            "tags": []
          },
          "execution_count": 95
        }
      ]
    },
    {
      "cell_type": "code",
      "metadata": {
        "id": "KyVkqpXyyC5M",
        "colab_type": "code",
        "outputId": "d29e02f5-932b-44e6-9ed2-1a7588e0be2f",
        "colab": {
          "base_uri": "https://localhost:8080/",
          "height": 395
        }
      },
      "source": [
        "mostValuableActors.plot.bar(y='Actor', rot=0, width=0.5, figsize=(28, 6))"
      ],
      "execution_count": 0,
      "outputs": [
        {
          "output_type": "execute_result",
          "data": {
            "text/plain": [
              "<matplotlib.axes._subplots.AxesSubplot at 0x7f34cc034d68>"
            ]
          },
          "metadata": {
            "tags": []
          },
          "execution_count": 96
        },
        {
          "output_type": "display_data",
          "data": {
            "image/png": "[encoded data removed]",
            "text/plain": [
              "<Figure size 2016x432 with 1 Axes>"
            ]
          },
          "metadata": {
            "tags": []
          }
        }
      ]
    }
  ]
}