{
  "nbformat": 4,
  "nbformat_minor": 0,
  "metadata": {
    "colab": {
      "name": "Stochastic Universal Sampling.ipynb",
      "provenance": [],
      "collapsed_sections": [],
      "include_colab_link": true
    },
    "kernelspec": {
      "name": "python3",
      "display_name": "Python 3"
    }
  },
  "cells": [
    {
      "cell_type": "markdown",
      "metadata": {
        "id": "view-in-github",
        "colab_type": "text"
      },
      "source": [
        "<a href=\"https://colab.research.google.com/github/GRTO/DiplomadoPucp/blob/master/Stochastic_Universal_Sampling.ipynb\" target=\"_parent\"><img src=\"https://colab.research.google.com/assets/colab-badge.svg\" alt=\"Open In Colab\"/></a>"
      ]
    },
    {
      "cell_type": "markdown",
      "metadata": {
        "id": "9Pw7exxaisI4",
        "colab_type": "text"
      },
      "source": [
        "# **Author:** Gerson Toribio Ossio"
      ]
    },
    {
      "cell_type": "code",
      "metadata": {
        "id": "ehA68418NO13",
        "colab_type": "code",
        "colab": {}
      },
      "source": [
        "import sys\n",
        "import time\n",
        "import random\n",
        "import numpy as np\n",
        "from copy import deepcopy\n",
        "import pandas as pd\n",
        "import matplotlib.pyplot as plt\n",
        "import heapq"
      ],
      "execution_count": 0,
      "outputs": []
    },
    {
      "cell_type": "markdown",
      "metadata": {
        "id": "xqbPDOHjiaO2",
        "colab_type": "text"
      },
      "source": [
        "# Stochastic Universal Sampling Algorithm"
      ]
    },
    {
      "cell_type": "code",
      "metadata": {
        "id": "Zfo6I8z_KVe3",
        "colab_type": "code",
        "colab": {}
      },
      "source": [
        "def makeWheel(population):\n",
        "    wheel = []\n",
        "    total = sum(p.fitness for p in population)\n",
        "    top = 0\n",
        "    for p in population:\n",
        "        f = p.fitness/total\n",
        "        wheel.append((top, top+f, p.chromosome, p.fitness))\n",
        "        top += f\n",
        "    return wheel\n",
        "\n",
        "def binSearch(wheel, num):\n",
        "    mid = len(wheel)//2\n",
        "    low, high, answer, fitness = wheel[mid]\n",
        "    if low<=num<=high:\n",
        "        return (answer, fitness)\n",
        "    elif low < num:\n",
        "        return binSearch(wheel[mid+1:], num)\n",
        "    else:\n",
        "        return binSearch(wheel[:mid], num)\n",
        "\n",
        "def select(wheel, N):\n",
        "    stepSize = 1.0/N\n",
        "    answer = []\n",
        "    r = random.random()\n",
        "    answer.append(binSearch(wheel, r))\n",
        "    while len(answer) < N:\n",
        "        r += stepSize\n",
        "        if r>1:\n",
        "            r %= 1\n",
        "        answer.append(binSearch(wheel, r))\n",
        "    return answer"
      ],
      "execution_count": 0,
      "outputs": []
    },
    {
      "cell_type": "markdown",
      "metadata": {
        "id": "kGyVnJf5ie8T",
        "colab_type": "text"
      },
      "source": [
        "# Class creation"
      ]
    },
    {
      "cell_type": "code",
      "metadata": {
        "id": "QBb7ywQVM_tX",
        "colab_type": "code",
        "colab": {}
      },
      "source": [
        "class Individual_binary(object):   \n",
        "   \n",
        "    def __init__(self, chromosome, allele_pool):\n",
        "            self.chromosome = chromosome[:]\n",
        "            self.allele_pool = allele_pool\n",
        "            self.fitness = -1  # -1 indica que el individuo no ha sido evaluado\n",
        "            \n",
        "    def crossover_onepoint(self, other):\n",
        "        \"Retorna dos nuevos individuos del cruzamiento de un punto entre individuos self y other \"\n",
        "        c = random.randrange(len(self.chromosome))\n",
        "        ind1 = Individual(self.chromosome[:c] + other.chromosome[c:], allele_pool)\n",
        "        ind2 = Individual(other.chromosome[:c] + self.chromosome[c:], allele_pool)\n",
        "        return [ind1, ind2]   \n",
        "    \n",
        "    \n",
        "    def crossover_uniform(self, other):\n",
        "        chromosome1 = []\n",
        "        chromosome2 = []\n",
        "        \"Retorna dos nuevos individuos del cruzamiento uniforme entre self y other \"\n",
        "        for i in range(len(self.chromosome)):\n",
        "            if random.uniform(0, 1) < 0.5:\n",
        "                chromosome1.append(self.chromosome[i])\n",
        "                chromosome2.append(other.chromosome[i])\n",
        "            else:\n",
        "                chromosome1.append(other.chromosome[i])\n",
        "                chromosome2.append(self.chromosome[i])\n",
        "        ind1 = Individual(chromosome1, allele_pool)\n",
        "        ind2 = Individual(chromosome2, allele_pool)\n",
        "        return [ind1, ind2] \n",
        "\n",
        "    def mutate_position(self): \n",
        "        \"\"\"       Bit flip\n",
        "        Cambia aleatoriamente un alelo de un gen.\"\"\"\n",
        "        mutated_chromosome = deepcopy(self.chromosome)\n",
        "        mutGene = random.randrange(0,len(mutated_chromosome)) \n",
        "        newAllele = allele_pool[random.randrange(0,len(allele_pool))]\n",
        "        mutated_chromosome[mutGene] = newAllele\n",
        "        return Individual(mutated_chromosome, allele_pool)\n",
        "        \n",
        "    def mutate_swap(self):\n",
        "        \"Escoge dos genes e intercambia sus alelos\"\n",
        "        mutated_chromosome = deepcopy(self.chromosome)\n",
        "        mutGen1 = random.randrange(0,len(mutated_chromosome))\n",
        "        mutGen2 = random.randrange(0,len(mutated_chromosome))\n",
        "        temp = mutated_chromosome[mutGen1]\n",
        "        mutated_chromosome[mutGen1] = mutated_chromosome[mutGen2]\n",
        "        mutated_chromosome[mutGen2] = temp\n",
        "        return Individual(mutated_chromosome, allele_pool)"
      ],
      "execution_count": 0,
      "outputs": []
    },
    {
      "cell_type": "code",
      "metadata": {
        "id": "6_4D6Ko9d5Dd",
        "colab_type": "code",
        "colab": {}
      },
      "source": [
        "class Individual_Float(object):   \n",
        "   \n",
        "    def __init__(self, chromosome):\n",
        "            self.chromosome = chromosome[:]\n",
        "            self.fitness = -1  # -1 indica que el individuo no ha sido evaluado\n",
        "             \n",
        "    def crossover_onepoint(self, other):\n",
        "        \"Retorna dos nuevos individuos del cruzamiento de un punto entre individuos self y other \"\n",
        "        c = random.randrange(len(self.chromosome))\n",
        "        ind1 = Individual(self.chromosome[:c] + other.chromosome[c:])\n",
        "        ind2 = Individual(other.chromosome[:c] + self.chromosome[c:])\n",
        "        return [ind1, ind2]   \n",
        "\n",
        "    def crossover_uniform(self, other):\n",
        "        chromosome1 = []\n",
        "        chromosome2 = []\n",
        "        \"Retorna dos nuevos individuos del cruzamiento uniforme entre self y other \"\n",
        "        for i in range(len(self.chromosome)):\n",
        "            if random.uniform(0, 1) < 0.5:\n",
        "                chromosome1.append(self.chromosome[i])\n",
        "                chromosome2.append(other.chromosome[i])\n",
        "            else:\n",
        "                chromosome1.append(other.chromosome[i])\n",
        "                chromosome2.append(self.chromosome[i])\n",
        "        ind1 = Individual(chromosome1)\n",
        "        ind2 = Individual(chromosome2)\n",
        "        return [ind1, ind2] \n",
        "  \n",
        "\n",
        "    def mutate_position(self): \n",
        "        \"\"\"       Bit flip\n",
        "        Cambia aleatoriamente un alelo de un gen.\"\"\"\n",
        "        mutated_chromosome = deepcopy(self.chromosome)\n",
        "        mutGene = random.randrange(0,len(mutated_chromosome)) \n",
        "        newAllele = random.randrange(0,len(mutated_chromosome))\n",
        "        mutated_chromosome[mutGene] = newAllele\n",
        "        return Individual(mutated_chromosome)    \n",
        "        \n",
        "    def mutate_swap(self):\n",
        "        \"Escoge dos genes e intercambia sus alelos\"\n",
        "        mutated_chromosome = deepcopy(self.chromosome[:])\n",
        "        mutGen1 = random.randrange(0,len(mutated_chromosome))\n",
        "        mutGen2 = random.randrange(0,len(mutated_chromosome))\n",
        "        temp = mutated_chromosome[mutGen1]\n",
        "        mutated_chromosome[mutGen1] = mutated_chromosome[mutGen2]\n",
        "        mutated_chromosome[mutGen2] = temp\n",
        "        return Individual(mutated_chromosome)"
      ],
      "execution_count": 0,
      "outputs": []
    },
    {
      "cell_type": "code",
      "metadata": {
        "id": "irBTN_wFfTFF",
        "colab_type": "code",
        "colab": {}
      },
      "source": [
        "class Individual_permutation(object):   \n",
        "   \n",
        "    def __init__(self, chromosome):\n",
        "            self.chromosome = chromosome[:]\n",
        "            self.fitness = -1  # -1 indica que el individuo no ha sido evaluado\n",
        "     \n",
        "    def crossover_onepoint(self, other):\n",
        "        \"Retorna dos nuevos individuos del cruzamiento de un punto entre individuos self y other \"\n",
        "        c = random.randrange(len(self.chromosome))\n",
        "        ind1 = Individual(self.chromosome[:c] + other.chromosome[c:])\n",
        "        ind2 = Individual(other.chromosome[:c] + self.chromosome[c:])\n",
        "        return [ind1, ind2]   \n",
        "    \n",
        "    def crossover_uniform(self, other):\n",
        "        chromosome1 = []\n",
        "        chromosome2 = []\n",
        "        \"Retorna dos nuevos individuos del cruzamiento uniforme entre self y other\"\n",
        "        for i in range(len(self.chromosome)):\n",
        "            if random.uniform(0, 1) < 0.5:\n",
        "                chromosome1.append(self.chromosome[i])\n",
        "                chromosome2.append(other.chromosome[i])\n",
        "            else:\n",
        "                chromosome1.append(other.chromosome[i])\n",
        "                chromosome2.append(self.chromosome[i])\n",
        "        ind1 = Individual(chromosome1)\n",
        "        ind2 = Individual(chromosome2)\n",
        "        return [ind1, ind2]     \n",
        "    \n",
        "    def mutate_position(self): \n",
        "        \"\"\"       Bit flip\n",
        "        Cambia aleatoriamente un alelo de un gen.\"\"\"\n",
        "        mutated_chromosome = deepcopy(self.chromosome)\n",
        "        mutGene = random.randrange(0,len(mutated_chromosome)) \n",
        "        newAllele = random.randrange(0,len(mutated_chromosome))\n",
        "        mutated_chromosome[mutGene] = newAllele\n",
        "        return Individual(mutated_chromosome)    \n",
        "        \n",
        "    def mutate_swap(self):\n",
        "        \"Escoge dos genes e intercambia sus alelos\"\n",
        "        mutated_chromosome = deepcopy(self.chromosome[:])\n",
        "        mutGen1 = random.randrange(0,len(mutated_chromosome))\n",
        "        mutGen2 = random.randrange(0,len(mutated_chromosome))\n",
        "        temp = mutated_chromosome[mutGen1]\n",
        "        mutated_chromosome[mutGen1] = mutated_chromosome[mutGen2]\n",
        "        mutated_chromosome[mutGen2] = temp\n",
        "        return Individual(mutated_chromosome)"
      ],
      "execution_count": 0,
      "outputs": []
    },
    {
      "cell_type": "code",
      "metadata": {
        "id": "danwx2BDgPLk",
        "colab_type": "code",
        "colab": {}
      },
      "source": [
        "class Individual_string:   \n",
        "    \n",
        "    def __init__(self, chromosome, allele_pool):  # el constructor recibe el cromosoma  y el pool de alelos posibles\n",
        "        self.chromosome = chromosome[:]\n",
        "        self.allele_pool = allele_pool\n",
        "        self.fitness = -1  # -1 indica que el individuo no ha sido evaluado\n",
        "        \n",
        "    def crossover_onepoint(self, other):\n",
        "        \"Retorna dos nuevos individuos del cruzamiento de un punto entre individuos self y other \"\n",
        "        c = random.randrange(len(self.chromosome))\n",
        "        ind1 = Individual(self.chromosome[:c] + other.chromosome[c:], allele_pool)\n",
        "        ind2 = Individual(other.chromosome[:c] + self.chromosome[c:], allele_pool)\n",
        "        return [ind1, ind2]   \n",
        "    \n",
        "    \n",
        "    def crossover_uniform(self, other):\n",
        "        chromosome1 = []\n",
        "        chromosome2 = []\n",
        "        \"Retorna dos nuevos individuos del cruzamiento uniforme entre self y other \"\n",
        "        for i in range(len(self.chromosome)):\n",
        "            if random.uniform(0, 1) < 0.5:\n",
        "                chromosome1.append(self.chromosome[i])\n",
        "                chromosome2.append(other.chromosome[i])\n",
        "            else:\n",
        "                chromosome1.append(other.chromosome[i])\n",
        "                chromosome2.append(self.chromosome[i])\n",
        "        ind1 = Individual(chromosome1, allele_pool)\n",
        "        ind2 = Individual(chromosome2, allele_pool)\n",
        "        return [ind1, ind2] \n",
        "\n",
        "    def mutate_position(self):\n",
        "        \"Cambia aleatoriamente el alelo de un gen.\"\n",
        "        mutated_chromosome = deepcopy(self.chromosome)\n",
        "        mutGene = random.randrange(0,len(mutated_chromosome)) \n",
        "        newAllele = allele_pool[random.randrange(0,len(allele_pool))]\n",
        "        mutated_chromosome[mutGene] = newAllele\n",
        "        return Individual(mutated_chromosome, allele_pool)\n",
        "        \n",
        "    def mutate_swap(self):\n",
        "        \"Escoge dos genes e intercambia sus alelos\"\n",
        "        mutated_chromosome = deepcopy(self.chromosome)\n",
        "        mutGen1 = random.randrange(0,len(mutated_chromosome))\n",
        "        mutGen2 = random.randrange(0,len(mutated_chromosome))\n",
        "        temp = mutated_chromosome[mutGen1]\n",
        "        mutated_chromosome[mutGen1] = mutated_chromosome[mutGen2]\n",
        "        mutated_chromosome[mutGen2] = temp\n",
        "        return Individual(mutated_chromosome, allele_pool)"
      ],
      "execution_count": 0,
      "outputs": []
    },
    {
      "cell_type": "code",
      "metadata": {
        "id": "5NLpULI7Nr3n",
        "colab_type": "code",
        "colab": {}
      },
      "source": [
        "def display(population):\n",
        "    listaAG=[]\n",
        "    for i in range(len(population)):\n",
        "        listaAG.append([population[i].chromosome,population[i].fitness])\n",
        "\n",
        "    data=pd.DataFrame(listaAG)\n",
        "    data.columns = ['Poblacion','fitness']\n",
        "    return data"
      ],
      "execution_count": 0,
      "outputs": []
    },
    {
      "cell_type": "code",
      "metadata": {
        "id": "pzZYRJdfg_wG",
        "colab_type": "code",
        "colab": {}
      },
      "source": [
        "def display_string(population):\n",
        "    listaAG=[]\n",
        "    for i in range(len(population)):\n",
        "        listaAG.append([''.join(population[i].chromosome),population[i].fitness])\n",
        "\n",
        "    data=pd.DataFrame(listaAG)\n",
        "    data.columns = ['Poblacion','fitness']\n",
        "    return data"
      ],
      "execution_count": 0,
      "outputs": []
    },
    {
      "cell_type": "markdown",
      "metadata": {
        "id": "tcUXE-WzNBC3",
        "colab_type": "text"
      },
      "source": [
        "# Binary"
      ]
    },
    {
      "cell_type": "code",
      "metadata": {
        "id": "U1OZORtvLWZS",
        "colab_type": "code",
        "colab": {}
      },
      "source": [
        "def init_population_binary(pop_number, chromosome_size, allele_pool):\n",
        "    \n",
        "    num_alleles = len(allele_pool)\n",
        "    population = []\n",
        "    for i in range(pop_number):\n",
        "        new_chromosome = [allele_pool[random.randrange(0, num_alleles)] for j in range(chromosome_size)]\n",
        "        population.append( Individual_binary(new_chromosome, allele_pool) )\n",
        "    return population"
      ],
      "execution_count": 0,
      "outputs": []
    },
    {
      "cell_type": "code",
      "metadata": {
        "id": "-Lh4uVD-Ngvh",
        "colab_type": "code",
        "outputId": "8b1e1d9a-57f3-4e52-d29d-252fe1c100e1",
        "colab": {
          "base_uri": "https://localhost:8080/",
          "height": 266
        }
      },
      "source": [
        "num_individuals=7\n",
        "ind_size=4\n",
        "\n",
        "# Inicializa una poblacion inicial de forma aleatoria\n",
        "# construye el pool de alelos con los caracteres \n",
        "allele_pool = [0,1]\n",
        "population = init_population_binary(num_individuals,ind_size, allele_pool)\n",
        "\n",
        "display(population) #Imprime la primera poblacion"
      ],
      "execution_count": 0,
      "outputs": [
        {
          "output_type": "execute_result",
          "data": {
            "text/html": [
              "<div>\n",
              "<style scoped>\n",
              "    .dataframe tbody tr th:only-of-type {\n",
              "        vertical-align: middle;\n",
              "    }\n",
              "\n",
              "    .dataframe tbody tr th {\n",
              "        vertical-align: top;\n",
              "    }\n",
              "\n",
              "    .dataframe thead th {\n",
              "        text-align: right;\n",
              "    }\n",
              "</style>\n",
              "<table border=\"1\" class=\"dataframe\">\n",
              "  <thead>\n",
              "    <tr style=\"text-align: right;\">\n",
              "      <th></th>\n",
              "      <th>Poblacion</th>\n",
              "      <th>fitness</th>\n",
              "    </tr>\n",
              "  </thead>\n",
              "  <tbody>\n",
              "    <tr>\n",
              "      <th>0</th>\n",
              "      <td>[1, 0, 0, 0]</td>\n",
              "      <td>-1</td>\n",
              "    </tr>\n",
              "    <tr>\n",
              "      <th>1</th>\n",
              "      <td>[1, 1, 0, 0]</td>\n",
              "      <td>-1</td>\n",
              "    </tr>\n",
              "    <tr>\n",
              "      <th>2</th>\n",
              "      <td>[0, 0, 0, 1]</td>\n",
              "      <td>-1</td>\n",
              "    </tr>\n",
              "    <tr>\n",
              "      <th>3</th>\n",
              "      <td>[0, 1, 1, 1]</td>\n",
              "      <td>-1</td>\n",
              "    </tr>\n",
              "    <tr>\n",
              "      <th>4</th>\n",
              "      <td>[0, 0, 1, 1]</td>\n",
              "      <td>-1</td>\n",
              "    </tr>\n",
              "    <tr>\n",
              "      <th>5</th>\n",
              "      <td>[0, 1, 0, 1]</td>\n",
              "      <td>-1</td>\n",
              "    </tr>\n",
              "    <tr>\n",
              "      <th>6</th>\n",
              "      <td>[0, 0, 0, 0]</td>\n",
              "      <td>-1</td>\n",
              "    </tr>\n",
              "  </tbody>\n",
              "</table>\n",
              "</div>"
            ],
            "text/plain": [
              "      Poblacion  fitness\n",
              "0  [1, 0, 0, 0]       -1\n",
              "1  [1, 1, 0, 0]       -1\n",
              "2  [0, 0, 0, 1]       -1\n",
              "3  [0, 1, 1, 1]       -1\n",
              "4  [0, 0, 1, 1]       -1\n",
              "5  [0, 1, 0, 1]       -1\n",
              "6  [0, 0, 0, 0]       -1"
            ]
          },
          "metadata": {
            "tags": []
          },
          "execution_count": 92
        }
      ]
    },
    {
      "cell_type": "code",
      "metadata": {
        "id": "05-JeDwNN5gH",
        "colab_type": "code",
        "outputId": "207fd6b6-d079-4eea-fb6c-c35d40eb088b",
        "colab": {
          "base_uri": "https://localhost:8080/",
          "height": 266
        }
      },
      "source": [
        "population[0].fitness=2\n",
        "population[1].fitness=23\n",
        "population[2].fitness=11\n",
        "population[3].fitness=17\n",
        "population[4].fitness=22\n",
        "population[5].fitness=5\n",
        "population[6].fitness=19\n",
        "display(population)"
      ],
      "execution_count": 0,
      "outputs": [
        {
          "output_type": "execute_result",
          "data": {
            "text/html": [
              "<div>\n",
              "<style scoped>\n",
              "    .dataframe tbody tr th:only-of-type {\n",
              "        vertical-align: middle;\n",
              "    }\n",
              "\n",
              "    .dataframe tbody tr th {\n",
              "        vertical-align: top;\n",
              "    }\n",
              "\n",
              "    .dataframe thead th {\n",
              "        text-align: right;\n",
              "    }\n",
              "</style>\n",
              "<table border=\"1\" class=\"dataframe\">\n",
              "  <thead>\n",
              "    <tr style=\"text-align: right;\">\n",
              "      <th></th>\n",
              "      <th>Poblacion</th>\n",
              "      <th>fitness</th>\n",
              "    </tr>\n",
              "  </thead>\n",
              "  <tbody>\n",
              "    <tr>\n",
              "      <th>0</th>\n",
              "      <td>[1, 0, 0, 0]</td>\n",
              "      <td>2</td>\n",
              "    </tr>\n",
              "    <tr>\n",
              "      <th>1</th>\n",
              "      <td>[1, 1, 0, 0]</td>\n",
              "      <td>23</td>\n",
              "    </tr>\n",
              "    <tr>\n",
              "      <th>2</th>\n",
              "      <td>[0, 0, 0, 1]</td>\n",
              "      <td>11</td>\n",
              "    </tr>\n",
              "    <tr>\n",
              "      <th>3</th>\n",
              "      <td>[0, 1, 1, 1]</td>\n",
              "      <td>17</td>\n",
              "    </tr>\n",
              "    <tr>\n",
              "      <th>4</th>\n",
              "      <td>[0, 0, 1, 1]</td>\n",
              "      <td>22</td>\n",
              "    </tr>\n",
              "    <tr>\n",
              "      <th>5</th>\n",
              "      <td>[0, 1, 0, 1]</td>\n",
              "      <td>5</td>\n",
              "    </tr>\n",
              "    <tr>\n",
              "      <th>6</th>\n",
              "      <td>[0, 0, 0, 0]</td>\n",
              "      <td>19</td>\n",
              "    </tr>\n",
              "  </tbody>\n",
              "</table>\n",
              "</div>"
            ],
            "text/plain": [
              "      Poblacion  fitness\n",
              "0  [1, 0, 0, 0]        2\n",
              "1  [1, 1, 0, 0]       23\n",
              "2  [0, 0, 0, 1]       11\n",
              "3  [0, 1, 1, 1]       17\n",
              "4  [0, 0, 1, 1]       22\n",
              "5  [0, 1, 0, 1]        5\n",
              "6  [0, 0, 0, 0]       19"
            ]
          },
          "metadata": {
            "tags": []
          },
          "execution_count": 93
        }
      ]
    },
    {
      "cell_type": "markdown",
      "metadata": {
        "id": "ZQJAdMtmi4AP",
        "colab_type": "text"
      },
      "source": [
        "**Run wheel**"
      ]
    },
    {
      "cell_type": "code",
      "metadata": {
        "id": "-yfkhp1AN69W",
        "colab_type": "code",
        "outputId": "33873a21-8eb0-474b-bd9c-f18131c90af7",
        "colab": {
          "base_uri": "https://localhost:8080/",
          "height": 85
        }
      },
      "source": [
        "wheel = makeWheel(population)\n",
        "select(wheel, 4)"
      ],
      "execution_count": 0,
      "outputs": [
        {
          "output_type": "execute_result",
          "data": {
            "text/plain": [
              "[([0, 1, 1, 1], 17),\n",
              " ([0, 0, 1, 1], 22),\n",
              " ([0, 0, 0, 0], 19),\n",
              " ([1, 1, 0, 0], 23)]"
            ]
          },
          "metadata": {
            "tags": []
          },
          "execution_count": 95
        }
      ]
    },
    {
      "cell_type": "markdown",
      "metadata": {
        "id": "SAV3rPkRdIPD",
        "colab_type": "text"
      },
      "source": [
        "# Float"
      ]
    },
    {
      "cell_type": "code",
      "metadata": {
        "id": "dmqnWAPdUhQk",
        "colab_type": "code",
        "colab": {}
      },
      "source": [
        "def init_population_float(pop_number, rst):\n",
        "    population = []\n",
        "    state_length=2\n",
        "    ## Crea la poblacion inicial con cromosomas aleatorios\n",
        "    for i in range(pop_number):\n",
        "        new_chromosome = [2*rst*random.uniform(0, 1)-rst for j in range(state_length)]\n",
        "        random.shuffle(new_chromosome)\n",
        "        population.append(Individual_Float(new_chromosome))\n",
        "    return population"
      ],
      "execution_count": 0,
      "outputs": []
    },
    {
      "cell_type": "code",
      "metadata": {
        "id": "xFYlHdROdM2l",
        "colab_type": "code",
        "outputId": "7b6b8f6e-5b15-4d42-e45a-c3b48302652c",
        "colab": {
          "base_uri": "https://localhost:8080/",
          "height": 514
        }
      },
      "source": [
        "rst = 5.12  # Para restringir la poblacion entre [-rst,rst] \n",
        "num_individuals=15\n",
        "\n",
        "# Inicializa una poblacion inicial de forma aleatoria\n",
        "population = init_population_float(num_individuals, rst)\n",
        "display(population)"
      ],
      "execution_count": 0,
      "outputs": [
        {
          "output_type": "execute_result",
          "data": {
            "text/html": [
              "<div>\n",
              "<style scoped>\n",
              "    .dataframe tbody tr th:only-of-type {\n",
              "        vertical-align: middle;\n",
              "    }\n",
              "\n",
              "    .dataframe tbody tr th {\n",
              "        vertical-align: top;\n",
              "    }\n",
              "\n",
              "    .dataframe thead th {\n",
              "        text-align: right;\n",
              "    }\n",
              "</style>\n",
              "<table border=\"1\" class=\"dataframe\">\n",
              "  <thead>\n",
              "    <tr style=\"text-align: right;\">\n",
              "      <th></th>\n",
              "      <th>Poblacion</th>\n",
              "      <th>fitness</th>\n",
              "    </tr>\n",
              "  </thead>\n",
              "  <tbody>\n",
              "    <tr>\n",
              "      <th>0</th>\n",
              "      <td>[0.15967176639681924, -1.264455474444842]</td>\n",
              "      <td>-1</td>\n",
              "    </tr>\n",
              "    <tr>\n",
              "      <th>1</th>\n",
              "      <td>[-1.993620241960656, 2.9663471355587996]</td>\n",
              "      <td>-1</td>\n",
              "    </tr>\n",
              "    <tr>\n",
              "      <th>2</th>\n",
              "      <td>[0.2874610744443622, -3.625149592073626]</td>\n",
              "      <td>-1</td>\n",
              "    </tr>\n",
              "    <tr>\n",
              "      <th>3</th>\n",
              "      <td>[-3.0939409718657296, -1.6330491841549408]</td>\n",
              "      <td>-1</td>\n",
              "    </tr>\n",
              "    <tr>\n",
              "      <th>4</th>\n",
              "      <td>[-0.08425673683951906, -1.5071868801635424]</td>\n",
              "      <td>-1</td>\n",
              "    </tr>\n",
              "    <tr>\n",
              "      <th>5</th>\n",
              "      <td>[-3.1480285540924138, 1.8093629784204515]</td>\n",
              "      <td>-1</td>\n",
              "    </tr>\n",
              "    <tr>\n",
              "      <th>6</th>\n",
              "      <td>[-2.2310353170805035, -1.9650933078405477]</td>\n",
              "      <td>-1</td>\n",
              "    </tr>\n",
              "    <tr>\n",
              "      <th>7</th>\n",
              "      <td>[2.9370116388130905, 0.796468160742406]</td>\n",
              "      <td>-1</td>\n",
              "    </tr>\n",
              "    <tr>\n",
              "      <th>8</th>\n",
              "      <td>[1.0776665303792106, 2.3096550439476218]</td>\n",
              "      <td>-1</td>\n",
              "    </tr>\n",
              "    <tr>\n",
              "      <th>9</th>\n",
              "      <td>[-1.8942015792946187, -5.089880921922644]</td>\n",
              "      <td>-1</td>\n",
              "    </tr>\n",
              "    <tr>\n",
              "      <th>10</th>\n",
              "      <td>[2.8244287071560557, 4.99323204132197]</td>\n",
              "      <td>-1</td>\n",
              "    </tr>\n",
              "    <tr>\n",
              "      <th>11</th>\n",
              "      <td>[1.3410651148166224, 2.0135185217958043]</td>\n",
              "      <td>-1</td>\n",
              "    </tr>\n",
              "    <tr>\n",
              "      <th>12</th>\n",
              "      <td>[-3.8833062326704155, -2.8602864013535045]</td>\n",
              "      <td>-1</td>\n",
              "    </tr>\n",
              "    <tr>\n",
              "      <th>13</th>\n",
              "      <td>[-2.9314744009253038, -3.5276082912050652]</td>\n",
              "      <td>-1</td>\n",
              "    </tr>\n",
              "    <tr>\n",
              "      <th>14</th>\n",
              "      <td>[1.7278921657863, 2.7349352115314938]</td>\n",
              "      <td>-1</td>\n",
              "    </tr>\n",
              "  </tbody>\n",
              "</table>\n",
              "</div>"
            ],
            "text/plain": [
              "                                      Poblacion  fitness\n",
              "0     [0.15967176639681924, -1.264455474444842]       -1\n",
              "1      [-1.993620241960656, 2.9663471355587996]       -1\n",
              "2      [0.2874610744443622, -3.625149592073626]       -1\n",
              "3    [-3.0939409718657296, -1.6330491841549408]       -1\n",
              "4   [-0.08425673683951906, -1.5071868801635424]       -1\n",
              "5     [-3.1480285540924138, 1.8093629784204515]       -1\n",
              "6    [-2.2310353170805035, -1.9650933078405477]       -1\n",
              "7       [2.9370116388130905, 0.796468160742406]       -1\n",
              "8      [1.0776665303792106, 2.3096550439476218]       -1\n",
              "9     [-1.8942015792946187, -5.089880921922644]       -1\n",
              "10       [2.8244287071560557, 4.99323204132197]       -1\n",
              "11     [1.3410651148166224, 2.0135185217958043]       -1\n",
              "12   [-3.8833062326704155, -2.8602864013535045]       -1\n",
              "13   [-2.9314744009253038, -3.5276082912050652]       -1\n",
              "14        [1.7278921657863, 2.7349352115314938]       -1"
            ]
          },
          "metadata": {
            "tags": []
          },
          "execution_count": 54
        }
      ]
    },
    {
      "cell_type": "code",
      "metadata": {
        "id": "fiWp3d5UeE6K",
        "colab_type": "code",
        "outputId": "1192d354-43bf-4504-9777-20708e4ab6ad",
        "colab": {
          "base_uri": "https://localhost:8080/",
          "height": 514
        }
      },
      "source": [
        "population[0].fitness=2\n",
        "population[1].fitness=23\n",
        "population[2].fitness=11\n",
        "population[3].fitness=17\n",
        "population[4].fitness=22\n",
        "population[5].fitness=5\n",
        "population[6].fitness=7\n",
        "population[7].fitness=12\n",
        "population[8].fitness=29\n",
        "population[9].fitness=3\n",
        "population[10].fitness=15\n",
        "population[11].fitness=19\n",
        "population[12].fitness=6\n",
        "population[13].fitness=25\n",
        "population[14].fitness=8\n",
        "display(population)"
      ],
      "execution_count": 0,
      "outputs": [
        {
          "output_type": "execute_result",
          "data": {
            "text/html": [
              "<div>\n",
              "<style scoped>\n",
              "    .dataframe tbody tr th:only-of-type {\n",
              "        vertical-align: middle;\n",
              "    }\n",
              "\n",
              "    .dataframe tbody tr th {\n",
              "        vertical-align: top;\n",
              "    }\n",
              "\n",
              "    .dataframe thead th {\n",
              "        text-align: right;\n",
              "    }\n",
              "</style>\n",
              "<table border=\"1\" class=\"dataframe\">\n",
              "  <thead>\n",
              "    <tr style=\"text-align: right;\">\n",
              "      <th></th>\n",
              "      <th>Poblacion</th>\n",
              "      <th>fitness</th>\n",
              "    </tr>\n",
              "  </thead>\n",
              "  <tbody>\n",
              "    <tr>\n",
              "      <th>0</th>\n",
              "      <td>[0.15967176639681924, -1.264455474444842]</td>\n",
              "      <td>2</td>\n",
              "    </tr>\n",
              "    <tr>\n",
              "      <th>1</th>\n",
              "      <td>[-1.993620241960656, 2.9663471355587996]</td>\n",
              "      <td>23</td>\n",
              "    </tr>\n",
              "    <tr>\n",
              "      <th>2</th>\n",
              "      <td>[0.2874610744443622, -3.625149592073626]</td>\n",
              "      <td>11</td>\n",
              "    </tr>\n",
              "    <tr>\n",
              "      <th>3</th>\n",
              "      <td>[-3.0939409718657296, -1.6330491841549408]</td>\n",
              "      <td>17</td>\n",
              "    </tr>\n",
              "    <tr>\n",
              "      <th>4</th>\n",
              "      <td>[-0.08425673683951906, -1.5071868801635424]</td>\n",
              "      <td>22</td>\n",
              "    </tr>\n",
              "    <tr>\n",
              "      <th>5</th>\n",
              "      <td>[-3.1480285540924138, 1.8093629784204515]</td>\n",
              "      <td>5</td>\n",
              "    </tr>\n",
              "    <tr>\n",
              "      <th>6</th>\n",
              "      <td>[-2.2310353170805035, -1.9650933078405477]</td>\n",
              "      <td>7</td>\n",
              "    </tr>\n",
              "    <tr>\n",
              "      <th>7</th>\n",
              "      <td>[2.9370116388130905, 0.796468160742406]</td>\n",
              "      <td>12</td>\n",
              "    </tr>\n",
              "    <tr>\n",
              "      <th>8</th>\n",
              "      <td>[1.0776665303792106, 2.3096550439476218]</td>\n",
              "      <td>29</td>\n",
              "    </tr>\n",
              "    <tr>\n",
              "      <th>9</th>\n",
              "      <td>[-1.8942015792946187, -5.089880921922644]</td>\n",
              "      <td>3</td>\n",
              "    </tr>\n",
              "    <tr>\n",
              "      <th>10</th>\n",
              "      <td>[2.8244287071560557, 4.99323204132197]</td>\n",
              "      <td>15</td>\n",
              "    </tr>\n",
              "    <tr>\n",
              "      <th>11</th>\n",
              "      <td>[1.3410651148166224, 2.0135185217958043]</td>\n",
              "      <td>19</td>\n",
              "    </tr>\n",
              "    <tr>\n",
              "      <th>12</th>\n",
              "      <td>[-3.8833062326704155, -2.8602864013535045]</td>\n",
              "      <td>6</td>\n",
              "    </tr>\n",
              "    <tr>\n",
              "      <th>13</th>\n",
              "      <td>[-2.9314744009253038, -3.5276082912050652]</td>\n",
              "      <td>25</td>\n",
              "    </tr>\n",
              "    <tr>\n",
              "      <th>14</th>\n",
              "      <td>[1.7278921657863, 2.7349352115314938]</td>\n",
              "      <td>8</td>\n",
              "    </tr>\n",
              "  </tbody>\n",
              "</table>\n",
              "</div>"
            ],
            "text/plain": [
              "                                      Poblacion  fitness\n",
              "0     [0.15967176639681924, -1.264455474444842]        2\n",
              "1      [-1.993620241960656, 2.9663471355587996]       23\n",
              "2      [0.2874610744443622, -3.625149592073626]       11\n",
              "3    [-3.0939409718657296, -1.6330491841549408]       17\n",
              "4   [-0.08425673683951906, -1.5071868801635424]       22\n",
              "5     [-3.1480285540924138, 1.8093629784204515]        5\n",
              "6    [-2.2310353170805035, -1.9650933078405477]        7\n",
              "7       [2.9370116388130905, 0.796468160742406]       12\n",
              "8      [1.0776665303792106, 2.3096550439476218]       29\n",
              "9     [-1.8942015792946187, -5.089880921922644]        3\n",
              "10       [2.8244287071560557, 4.99323204132197]       15\n",
              "11     [1.3410651148166224, 2.0135185217958043]       19\n",
              "12   [-3.8833062326704155, -2.8602864013535045]        6\n",
              "13   [-2.9314744009253038, -3.5276082912050652]       25\n",
              "14        [1.7278921657863, 2.7349352115314938]        8"
            ]
          },
          "metadata": {
            "tags": []
          },
          "execution_count": 55
        }
      ]
    },
    {
      "cell_type": "markdown",
      "metadata": {
        "id": "hzX3-pvei9nD",
        "colab_type": "text"
      },
      "source": [
        "**Run wheel**"
      ]
    },
    {
      "cell_type": "code",
      "metadata": {
        "id": "StWmSa78evSw",
        "colab_type": "code",
        "outputId": "30e4be7e-033b-4972-fdd0-1c389865bf6e",
        "colab": {
          "base_uri": "https://localhost:8080/",
          "height": 102
        }
      },
      "source": [
        "wheel = makeWheel(population)\n",
        "select(wheel, 5)"
      ],
      "execution_count": 0,
      "outputs": [
        {
          "output_type": "execute_result",
          "data": {
            "text/plain": [
              "[([2.8244287071560557, 4.99323204132197], 15),\n",
              " ([-2.9314744009253038, -3.5276082912050652], 25),\n",
              " ([-1.993620241960656, 2.9663471355587996], 23),\n",
              " ([-3.0939409718657296, -1.6330491841549408], 17),\n",
              " ([2.9370116388130905, 0.796468160742406], 12)]"
            ]
          },
          "metadata": {
            "tags": []
          },
          "execution_count": 59
        }
      ]
    },
    {
      "cell_type": "markdown",
      "metadata": {
        "id": "3GbrbHjofEX3",
        "colab_type": "text"
      },
      "source": [
        "# Permutación"
      ]
    },
    {
      "cell_type": "code",
      "metadata": {
        "id": "4fFyUk60fByG",
        "colab_type": "code",
        "colab": {}
      },
      "source": [
        "def init_population_permutation(pop_number, size_chromosoma):\n",
        "    population = []\n",
        "    state_length=2\n",
        "    ## Crea la poblacion inicial con cromosomas aleatorios\n",
        "    for i in range(pop_number):\n",
        "        new_chromosome = [j for j in range(1,size_chromosoma+1)]\n",
        "        random.shuffle(new_chromosome)\n",
        "        population.append(Individual_permutation(new_chromosome))\n",
        "    return population"
      ],
      "execution_count": 0,
      "outputs": []
    },
    {
      "cell_type": "code",
      "metadata": {
        "id": "nbLC5rrZfhFs",
        "colab_type": "code",
        "outputId": "df35cc4f-ec58-4b61-bea3-fbc126f4cab7",
        "colab": {
          "base_uri": "https://localhost:8080/",
          "height": 514
        }
      },
      "source": [
        "size_chromosoma = 14\n",
        "num_individuals=15\n",
        "\n",
        "# Inicializa una poblacion inicial de forma aleatoria\n",
        "population = init_population_permutation(num_individuals, size_chromosoma)\n",
        "display(population)"
      ],
      "execution_count": 0,
      "outputs": [
        {
          "output_type": "execute_result",
          "data": {
            "text/html": [
              "<div>\n",
              "<style scoped>\n",
              "    .dataframe tbody tr th:only-of-type {\n",
              "        vertical-align: middle;\n",
              "    }\n",
              "\n",
              "    .dataframe tbody tr th {\n",
              "        vertical-align: top;\n",
              "    }\n",
              "\n",
              "    .dataframe thead th {\n",
              "        text-align: right;\n",
              "    }\n",
              "</style>\n",
              "<table border=\"1\" class=\"dataframe\">\n",
              "  <thead>\n",
              "    <tr style=\"text-align: right;\">\n",
              "      <th></th>\n",
              "      <th>Poblacion</th>\n",
              "      <th>fitness</th>\n",
              "    </tr>\n",
              "  </thead>\n",
              "  <tbody>\n",
              "    <tr>\n",
              "      <th>0</th>\n",
              "      <td>[3, 8, 1, 10, 12, 7, 11, 2, 14, 4, 5, 6, 13, 9]</td>\n",
              "      <td>-1</td>\n",
              "    </tr>\n",
              "    <tr>\n",
              "      <th>1</th>\n",
              "      <td>[7, 2, 12, 4, 13, 10, 14, 3, 5, 6, 9, 1, 8, 11]</td>\n",
              "      <td>-1</td>\n",
              "    </tr>\n",
              "    <tr>\n",
              "      <th>2</th>\n",
              "      <td>[7, 6, 10, 1, 14, 2, 11, 12, 13, 5, 3, 4, 8, 9]</td>\n",
              "      <td>-1</td>\n",
              "    </tr>\n",
              "    <tr>\n",
              "      <th>3</th>\n",
              "      <td>[3, 5, 14, 12, 1, 7, 9, 13, 2, 11, 6, 10, 4, 8]</td>\n",
              "      <td>-1</td>\n",
              "    </tr>\n",
              "    <tr>\n",
              "      <th>4</th>\n",
              "      <td>[13, 7, 4, 6, 2, 14, 10, 9, 11, 1, 3, 12, 5, 8]</td>\n",
              "      <td>-1</td>\n",
              "    </tr>\n",
              "    <tr>\n",
              "      <th>5</th>\n",
              "      <td>[10, 8, 2, 5, 4, 1, 11, 7, 12, 6, 9, 3, 13, 14]</td>\n",
              "      <td>-1</td>\n",
              "    </tr>\n",
              "    <tr>\n",
              "      <th>6</th>\n",
              "      <td>[14, 10, 11, 2, 12, 13, 8, 1, 7, 9, 3, 4, 6, 5]</td>\n",
              "      <td>-1</td>\n",
              "    </tr>\n",
              "    <tr>\n",
              "      <th>7</th>\n",
              "      <td>[12, 11, 5, 6, 2, 1, 7, 10, 3, 8, 14, 9, 4, 13]</td>\n",
              "      <td>-1</td>\n",
              "    </tr>\n",
              "    <tr>\n",
              "      <th>8</th>\n",
              "      <td>[2, 8, 10, 3, 5, 6, 1, 7, 9, 11, 12, 4, 13, 14]</td>\n",
              "      <td>-1</td>\n",
              "    </tr>\n",
              "    <tr>\n",
              "      <th>9</th>\n",
              "      <td>[6, 4, 14, 3, 8, 11, 1, 7, 13, 10, 2, 5, 9, 12]</td>\n",
              "      <td>-1</td>\n",
              "    </tr>\n",
              "    <tr>\n",
              "      <th>10</th>\n",
              "      <td>[14, 12, 7, 1, 4, 5, 13, 3, 6, 8, 2, 11, 9, 10]</td>\n",
              "      <td>-1</td>\n",
              "    </tr>\n",
              "    <tr>\n",
              "      <th>11</th>\n",
              "      <td>[1, 2, 3, 12, 11, 10, 13, 9, 14, 4, 6, 7, 5, 8]</td>\n",
              "      <td>-1</td>\n",
              "    </tr>\n",
              "    <tr>\n",
              "      <th>12</th>\n",
              "      <td>[9, 6, 5, 14, 12, 13, 11, 10, 4, 2, 3, 7, 8, 1]</td>\n",
              "      <td>-1</td>\n",
              "    </tr>\n",
              "    <tr>\n",
              "      <th>13</th>\n",
              "      <td>[6, 9, 2, 1, 14, 13, 4, 3, 5, 10, 11, 7, 8, 12]</td>\n",
              "      <td>-1</td>\n",
              "    </tr>\n",
              "    <tr>\n",
              "      <th>14</th>\n",
              "      <td>[4, 9, 7, 1, 5, 14, 11, 8, 6, 13, 2, 12, 10, 3]</td>\n",
              "      <td>-1</td>\n",
              "    </tr>\n",
              "  </tbody>\n",
              "</table>\n",
              "</div>"
            ],
            "text/plain": [
              "                                          Poblacion  fitness\n",
              "0   [3, 8, 1, 10, 12, 7, 11, 2, 14, 4, 5, 6, 13, 9]       -1\n",
              "1   [7, 2, 12, 4, 13, 10, 14, 3, 5, 6, 9, 1, 8, 11]       -1\n",
              "2   [7, 6, 10, 1, 14, 2, 11, 12, 13, 5, 3, 4, 8, 9]       -1\n",
              "3   [3, 5, 14, 12, 1, 7, 9, 13, 2, 11, 6, 10, 4, 8]       -1\n",
              "4   [13, 7, 4, 6, 2, 14, 10, 9, 11, 1, 3, 12, 5, 8]       -1\n",
              "5   [10, 8, 2, 5, 4, 1, 11, 7, 12, 6, 9, 3, 13, 14]       -1\n",
              "6   [14, 10, 11, 2, 12, 13, 8, 1, 7, 9, 3, 4, 6, 5]       -1\n",
              "7   [12, 11, 5, 6, 2, 1, 7, 10, 3, 8, 14, 9, 4, 13]       -1\n",
              "8   [2, 8, 10, 3, 5, 6, 1, 7, 9, 11, 12, 4, 13, 14]       -1\n",
              "9   [6, 4, 14, 3, 8, 11, 1, 7, 13, 10, 2, 5, 9, 12]       -1\n",
              "10  [14, 12, 7, 1, 4, 5, 13, 3, 6, 8, 2, 11, 9, 10]       -1\n",
              "11  [1, 2, 3, 12, 11, 10, 13, 9, 14, 4, 6, 7, 5, 8]       -1\n",
              "12  [9, 6, 5, 14, 12, 13, 11, 10, 4, 2, 3, 7, 8, 1]       -1\n",
              "13  [6, 9, 2, 1, 14, 13, 4, 3, 5, 10, 11, 7, 8, 12]       -1\n",
              "14  [4, 9, 7, 1, 5, 14, 11, 8, 6, 13, 2, 12, 10, 3]       -1"
            ]
          },
          "metadata": {
            "tags": []
          },
          "execution_count": 72
        }
      ]
    },
    {
      "cell_type": "code",
      "metadata": {
        "id": "4a-oshJzfqRb",
        "colab_type": "code",
        "outputId": "b2d46d33-b87c-493d-c416-9bc00089b979",
        "colab": {
          "base_uri": "https://localhost:8080/",
          "height": 514
        }
      },
      "source": [
        "population[0].fitness=2\n",
        "population[1].fitness=23\n",
        "population[2].fitness=11\n",
        "population[3].fitness=17\n",
        "population[4].fitness=22\n",
        "population[5].fitness=5\n",
        "population[6].fitness=7\n",
        "population[7].fitness=12\n",
        "population[8].fitness=28\n",
        "population[9].fitness=3\n",
        "population[10].fitness=15\n",
        "population[11].fitness=9\n",
        "population[12].fitness=6\n",
        "population[13].fitness=25\n",
        "population[14].fitness=18\n",
        "display(population)"
      ],
      "execution_count": 0,
      "outputs": [
        {
          "output_type": "execute_result",
          "data": {
            "text/html": [
              "<div>\n",
              "<style scoped>\n",
              "    .dataframe tbody tr th:only-of-type {\n",
              "        vertical-align: middle;\n",
              "    }\n",
              "\n",
              "    .dataframe tbody tr th {\n",
              "        vertical-align: top;\n",
              "    }\n",
              "\n",
              "    .dataframe thead th {\n",
              "        text-align: right;\n",
              "    }\n",
              "</style>\n",
              "<table border=\"1\" class=\"dataframe\">\n",
              "  <thead>\n",
              "    <tr style=\"text-align: right;\">\n",
              "      <th></th>\n",
              "      <th>Poblacion</th>\n",
              "      <th>fitness</th>\n",
              "    </tr>\n",
              "  </thead>\n",
              "  <tbody>\n",
              "    <tr>\n",
              "      <th>0</th>\n",
              "      <td>[3, 8, 1, 10, 12, 7, 11, 2, 14, 4, 5, 6, 13, 9]</td>\n",
              "      <td>2</td>\n",
              "    </tr>\n",
              "    <tr>\n",
              "      <th>1</th>\n",
              "      <td>[7, 2, 12, 4, 13, 10, 14, 3, 5, 6, 9, 1, 8, 11]</td>\n",
              "      <td>23</td>\n",
              "    </tr>\n",
              "    <tr>\n",
              "      <th>2</th>\n",
              "      <td>[7, 6, 10, 1, 14, 2, 11, 12, 13, 5, 3, 4, 8, 9]</td>\n",
              "      <td>11</td>\n",
              "    </tr>\n",
              "    <tr>\n",
              "      <th>3</th>\n",
              "      <td>[3, 5, 14, 12, 1, 7, 9, 13, 2, 11, 6, 10, 4, 8]</td>\n",
              "      <td>17</td>\n",
              "    </tr>\n",
              "    <tr>\n",
              "      <th>4</th>\n",
              "      <td>[13, 7, 4, 6, 2, 14, 10, 9, 11, 1, 3, 12, 5, 8]</td>\n",
              "      <td>22</td>\n",
              "    </tr>\n",
              "    <tr>\n",
              "      <th>5</th>\n",
              "      <td>[10, 8, 2, 5, 4, 1, 11, 7, 12, 6, 9, 3, 13, 14]</td>\n",
              "      <td>5</td>\n",
              "    </tr>\n",
              "    <tr>\n",
              "      <th>6</th>\n",
              "      <td>[14, 10, 11, 2, 12, 13, 8, 1, 7, 9, 3, 4, 6, 5]</td>\n",
              "      <td>7</td>\n",
              "    </tr>\n",
              "    <tr>\n",
              "      <th>7</th>\n",
              "      <td>[12, 11, 5, 6, 2, 1, 7, 10, 3, 8, 14, 9, 4, 13]</td>\n",
              "      <td>12</td>\n",
              "    </tr>\n",
              "    <tr>\n",
              "      <th>8</th>\n",
              "      <td>[2, 8, 10, 3, 5, 6, 1, 7, 9, 11, 12, 4, 13, 14]</td>\n",
              "      <td>28</td>\n",
              "    </tr>\n",
              "    <tr>\n",
              "      <th>9</th>\n",
              "      <td>[6, 4, 14, 3, 8, 11, 1, 7, 13, 10, 2, 5, 9, 12]</td>\n",
              "      <td>3</td>\n",
              "    </tr>\n",
              "    <tr>\n",
              "      <th>10</th>\n",
              "      <td>[14, 12, 7, 1, 4, 5, 13, 3, 6, 8, 2, 11, 9, 10]</td>\n",
              "      <td>15</td>\n",
              "    </tr>\n",
              "    <tr>\n",
              "      <th>11</th>\n",
              "      <td>[1, 2, 3, 12, 11, 10, 13, 9, 14, 4, 6, 7, 5, 8]</td>\n",
              "      <td>9</td>\n",
              "    </tr>\n",
              "    <tr>\n",
              "      <th>12</th>\n",
              "      <td>[9, 6, 5, 14, 12, 13, 11, 10, 4, 2, 3, 7, 8, 1]</td>\n",
              "      <td>6</td>\n",
              "    </tr>\n",
              "    <tr>\n",
              "      <th>13</th>\n",
              "      <td>[6, 9, 2, 1, 14, 13, 4, 3, 5, 10, 11, 7, 8, 12]</td>\n",
              "      <td>25</td>\n",
              "    </tr>\n",
              "    <tr>\n",
              "      <th>14</th>\n",
              "      <td>[4, 9, 7, 1, 5, 14, 11, 8, 6, 13, 2, 12, 10, 3]</td>\n",
              "      <td>18</td>\n",
              "    </tr>\n",
              "  </tbody>\n",
              "</table>\n",
              "</div>"
            ],
            "text/plain": [
              "                                          Poblacion  fitness\n",
              "0   [3, 8, 1, 10, 12, 7, 11, 2, 14, 4, 5, 6, 13, 9]        2\n",
              "1   [7, 2, 12, 4, 13, 10, 14, 3, 5, 6, 9, 1, 8, 11]       23\n",
              "2   [7, 6, 10, 1, 14, 2, 11, 12, 13, 5, 3, 4, 8, 9]       11\n",
              "3   [3, 5, 14, 12, 1, 7, 9, 13, 2, 11, 6, 10, 4, 8]       17\n",
              "4   [13, 7, 4, 6, 2, 14, 10, 9, 11, 1, 3, 12, 5, 8]       22\n",
              "5   [10, 8, 2, 5, 4, 1, 11, 7, 12, 6, 9, 3, 13, 14]        5\n",
              "6   [14, 10, 11, 2, 12, 13, 8, 1, 7, 9, 3, 4, 6, 5]        7\n",
              "7   [12, 11, 5, 6, 2, 1, 7, 10, 3, 8, 14, 9, 4, 13]       12\n",
              "8   [2, 8, 10, 3, 5, 6, 1, 7, 9, 11, 12, 4, 13, 14]       28\n",
              "9   [6, 4, 14, 3, 8, 11, 1, 7, 13, 10, 2, 5, 9, 12]        3\n",
              "10  [14, 12, 7, 1, 4, 5, 13, 3, 6, 8, 2, 11, 9, 10]       15\n",
              "11  [1, 2, 3, 12, 11, 10, 13, 9, 14, 4, 6, 7, 5, 8]        9\n",
              "12  [9, 6, 5, 14, 12, 13, 11, 10, 4, 2, 3, 7, 8, 1]        6\n",
              "13  [6, 9, 2, 1, 14, 13, 4, 3, 5, 10, 11, 7, 8, 12]       25\n",
              "14  [4, 9, 7, 1, 5, 14, 11, 8, 6, 13, 2, 12, 10, 3]       18"
            ]
          },
          "metadata": {
            "tags": []
          },
          "execution_count": 73
        }
      ]
    },
    {
      "cell_type": "markdown",
      "metadata": {
        "id": "ZlAzNtcwi-5e",
        "colab_type": "text"
      },
      "source": [
        "**Run wheel**"
      ]
    },
    {
      "cell_type": "code",
      "metadata": {
        "id": "g5PMc_KKgBaD",
        "colab_type": "code",
        "outputId": "0c6e49f9-a513-46ac-fc24-071c68bcb9bc",
        "colab": {
          "base_uri": "https://localhost:8080/",
          "height": 85
        }
      },
      "source": [
        "wheel = makeWheel(population)\n",
        "select(wheel, 4)"
      ],
      "execution_count": 0,
      "outputs": [
        {
          "output_type": "execute_result",
          "data": {
            "text/plain": [
              "[([2, 8, 10, 3, 5, 6, 1, 7, 9, 11, 12, 4, 13, 14], 28),\n",
              " ([9, 6, 5, 14, 12, 13, 11, 10, 4, 2, 3, 7, 8, 1], 6),\n",
              " ([7, 2, 12, 4, 13, 10, 14, 3, 5, 6, 9, 1, 8, 11], 23),\n",
              " ([13, 7, 4, 6, 2, 14, 10, 9, 11, 1, 3, 12, 5, 8], 22)]"
            ]
          },
          "metadata": {
            "tags": []
          },
          "execution_count": 74
        }
      ]
    },
    {
      "cell_type": "markdown",
      "metadata": {
        "id": "qUAJ0O3EgGVZ",
        "colab_type": "text"
      },
      "source": [
        "# String"
      ]
    },
    {
      "cell_type": "code",
      "metadata": {
        "id": "pUkw0UH0gF5J",
        "colab_type": "code",
        "colab": {}
      },
      "source": [
        "def init_population_string(pop_number, chromosome_size, allele_pool):\n",
        "    \n",
        "    num_alleles = len(allele_pool)\n",
        "    population = []\n",
        "    for i in range(pop_number):\n",
        "        new_chromosome = [allele_pool[random.randrange(0, num_alleles)] for j in range(chromosome_size)]\n",
        "        population.append( Individual_string(new_chromosome, allele_pool) )\n",
        "    return population"
      ],
      "execution_count": 0,
      "outputs": []
    },
    {
      "cell_type": "code",
      "metadata": {
        "id": "hj59g5p6gYKv",
        "colab_type": "code",
        "outputId": "176439f4-0784-4d78-eee0-9d1f6cf00905",
        "colab": {
          "base_uri": "https://localhost:8080/",
          "height": 266
        }
      },
      "source": [
        "target_string = 'Inteligencia Artificial en la PUCP'\n",
        "\n",
        "# construye el pool de alelos con los caracteres en mayuscula, minuscula y espacio en blanco\n",
        "allele_pool = []\n",
        "allele_pool.extend( [chr(x) for x in range(65, 91)] )   # caracteres ASCII en mayuscula\n",
        "allele_pool.extend( [chr(x) for x in range(97, 123)] )  # caracteres ASCII en minuscula\n",
        "allele_pool.extend(' ')  # espacio en blanco\n",
        "\n",
        "# Inicializa una poblacion inicial de forma aleatoria\n",
        "num_individuals = 7\n",
        "population = init_population_string(num_individuals, len(target_string), allele_pool)\n",
        "display_string(population)"
      ],
      "execution_count": 0,
      "outputs": [
        {
          "output_type": "execute_result",
          "data": {
            "text/html": [
              "<div>\n",
              "<style scoped>\n",
              "    .dataframe tbody tr th:only-of-type {\n",
              "        vertical-align: middle;\n",
              "    }\n",
              "\n",
              "    .dataframe tbody tr th {\n",
              "        vertical-align: top;\n",
              "    }\n",
              "\n",
              "    .dataframe thead th {\n",
              "        text-align: right;\n",
              "    }\n",
              "</style>\n",
              "<table border=\"1\" class=\"dataframe\">\n",
              "  <thead>\n",
              "    <tr style=\"text-align: right;\">\n",
              "      <th></th>\n",
              "      <th>Poblacion</th>\n",
              "      <th>fitness</th>\n",
              "    </tr>\n",
              "  </thead>\n",
              "  <tbody>\n",
              "    <tr>\n",
              "      <th>0</th>\n",
              "      <td>jKvtdmuggVlOxIjozVSWISLTiKzYFFdnfI</td>\n",
              "      <td>-1</td>\n",
              "    </tr>\n",
              "    <tr>\n",
              "      <th>1</th>\n",
              "      <td>cfSVIjxtkoChffEaGEISKNpbwAEqnKxEfN</td>\n",
              "      <td>-1</td>\n",
              "    </tr>\n",
              "    <tr>\n",
              "      <th>2</th>\n",
              "      <td>wjQxCGnCZIRfyjawmrZXiJjxebiWoiyVwc</td>\n",
              "      <td>-1</td>\n",
              "    </tr>\n",
              "    <tr>\n",
              "      <th>3</th>\n",
              "      <td>VBvxlkHwlpdZIXybdyUkWEgqaKMiAAkAr</td>\n",
              "      <td>-1</td>\n",
              "    </tr>\n",
              "    <tr>\n",
              "      <th>4</th>\n",
              "      <td>YOBiwe iZjsHQPMifwewbRy R dKsBHiwz</td>\n",
              "      <td>-1</td>\n",
              "    </tr>\n",
              "    <tr>\n",
              "      <th>5</th>\n",
              "      <td>KTmBBjDZ bhmzRshCUJeCHLRETKRtDYFXM</td>\n",
              "      <td>-1</td>\n",
              "    </tr>\n",
              "    <tr>\n",
              "      <th>6</th>\n",
              "      <td>kOjmNVCjdYdVOTyetAAVnUGtANaBFYFsBg</td>\n",
              "      <td>-1</td>\n",
              "    </tr>\n",
              "  </tbody>\n",
              "</table>\n",
              "</div>"
            ],
            "text/plain": [
              "                            Poblacion  fitness\n",
              "0  jKvtdmuggVlOxIjozVSWISLTiKzYFFdnfI       -1\n",
              "1  cfSVIjxtkoChffEaGEISKNpbwAEqnKxEfN       -1\n",
              "2  wjQxCGnCZIRfyjawmrZXiJjxebiWoiyVwc       -1\n",
              "3   VBvxlkHwlpdZIXybdyUkWEgqaKMiAAkAr       -1\n",
              "4  YOBiwe iZjsHQPMifwewbRy R dKsBHiwz       -1\n",
              "5  KTmBBjDZ bhmzRshCUJeCHLRETKRtDYFXM       -1\n",
              "6  kOjmNVCjdYdVOTyetAAVnUGtANaBFYFsBg       -1"
            ]
          },
          "metadata": {
            "tags": []
          },
          "execution_count": 82
        }
      ]
    },
    {
      "cell_type": "code",
      "metadata": {
        "id": "w64LA9D0gu11",
        "colab_type": "code",
        "outputId": "97305630-f695-484b-fb99-136d9cf2ae7a",
        "colab": {
          "base_uri": "https://localhost:8080/",
          "height": 266
        }
      },
      "source": [
        "population[0].fitness=2\n",
        "population[1].fitness=23\n",
        "population[2].fitness=11\n",
        "population[3].fitness=17\n",
        "population[4].fitness=22\n",
        "population[5].fitness=5\n",
        "population[6].fitness=19\n",
        "display_string(population)"
      ],
      "execution_count": 0,
      "outputs": [
        {
          "output_type": "execute_result",
          "data": {
            "text/html": [
              "<div>\n",
              "<style scoped>\n",
              "    .dataframe tbody tr th:only-of-type {\n",
              "        vertical-align: middle;\n",
              "    }\n",
              "\n",
              "    .dataframe tbody tr th {\n",
              "        vertical-align: top;\n",
              "    }\n",
              "\n",
              "    .dataframe thead th {\n",
              "        text-align: right;\n",
              "    }\n",
              "</style>\n",
              "<table border=\"1\" class=\"dataframe\">\n",
              "  <thead>\n",
              "    <tr style=\"text-align: right;\">\n",
              "      <th></th>\n",
              "      <th>Poblacion</th>\n",
              "      <th>fitness</th>\n",
              "    </tr>\n",
              "  </thead>\n",
              "  <tbody>\n",
              "    <tr>\n",
              "      <th>0</th>\n",
              "      <td>jKvtdmuggVlOxIjozVSWISLTiKzYFFdnfI</td>\n",
              "      <td>2</td>\n",
              "    </tr>\n",
              "    <tr>\n",
              "      <th>1</th>\n",
              "      <td>cfSVIjxtkoChffEaGEISKNpbwAEqnKxEfN</td>\n",
              "      <td>23</td>\n",
              "    </tr>\n",
              "    <tr>\n",
              "      <th>2</th>\n",
              "      <td>wjQxCGnCZIRfyjawmrZXiJjxebiWoiyVwc</td>\n",
              "      <td>11</td>\n",
              "    </tr>\n",
              "    <tr>\n",
              "      <th>3</th>\n",
              "      <td>VBvxlkHwlpdZIXybdyUkWEgqaKMiAAkAr</td>\n",
              "      <td>17</td>\n",
              "    </tr>\n",
              "    <tr>\n",
              "      <th>4</th>\n",
              "      <td>YOBiwe iZjsHQPMifwewbRy R dKsBHiwz</td>\n",
              "      <td>22</td>\n",
              "    </tr>\n",
              "    <tr>\n",
              "      <th>5</th>\n",
              "      <td>KTmBBjDZ bhmzRshCUJeCHLRETKRtDYFXM</td>\n",
              "      <td>5</td>\n",
              "    </tr>\n",
              "    <tr>\n",
              "      <th>6</th>\n",
              "      <td>kOjmNVCjdYdVOTyetAAVnUGtANaBFYFsBg</td>\n",
              "      <td>19</td>\n",
              "    </tr>\n",
              "  </tbody>\n",
              "</table>\n",
              "</div>"
            ],
            "text/plain": [
              "                            Poblacion  fitness\n",
              "0  jKvtdmuggVlOxIjozVSWISLTiKzYFFdnfI        2\n",
              "1  cfSVIjxtkoChffEaGEISKNpbwAEqnKxEfN       23\n",
              "2  wjQxCGnCZIRfyjawmrZXiJjxebiWoiyVwc       11\n",
              "3   VBvxlkHwlpdZIXybdyUkWEgqaKMiAAkAr       17\n",
              "4  YOBiwe iZjsHQPMifwewbRy R dKsBHiwz       22\n",
              "5  KTmBBjDZ bhmzRshCUJeCHLRETKRtDYFXM        5\n",
              "6  kOjmNVCjdYdVOTyetAAVnUGtANaBFYFsBg       19"
            ]
          },
          "metadata": {
            "tags": []
          },
          "execution_count": 83
        }
      ]
    },
    {
      "cell_type": "code",
      "metadata": {
        "id": "oA81Lkiqhfxj",
        "colab_type": "code",
        "colab": {}
      },
      "source": [
        "def showString(values):\n",
        "  finalValue=[]\n",
        "  for e in values:\n",
        "    lst = list(e)\n",
        "    lst[0] = ''.join(lst[0])\n",
        "    e = tuple(lst)\n",
        "    finalValue.append(e)\n",
        "  return finalValue"
      ],
      "execution_count": 0,
      "outputs": []
    },
    {
      "cell_type": "markdown",
      "metadata": {
        "id": "rvybrZZ_jApd",
        "colab_type": "text"
      },
      "source": [
        "**Run wheel**"
      ]
    },
    {
      "cell_type": "code",
      "metadata": {
        "id": "2ysuYDrshK0h",
        "colab_type": "code",
        "outputId": "5e1751eb-cb8e-4fe1-cc37-b1e0dcc7b996",
        "colab": {
          "base_uri": "https://localhost:8080/",
          "height": 68
        }
      },
      "source": [
        "wheel = makeWheel(population)\n",
        "showString(select(wheel, 3))"
      ],
      "execution_count": 0,
      "outputs": [
        {
          "output_type": "execute_result",
          "data": {
            "text/plain": [
              "[('wjQxCGnCZIRfyjawmrZXiJjxebiWoiyVwc', 11),\n",
              " ('YOBiwe iZjsHQPMifwewbRy R dKsBHiwz', 22),\n",
              " ('jKvtdmuggVlOxIjozVSWISLTiKzYFFdnfI', 2)]"
            ]
          },
          "metadata": {
            "tags": []
          },
          "execution_count": 89
        }
      ]
    }
  ]
}